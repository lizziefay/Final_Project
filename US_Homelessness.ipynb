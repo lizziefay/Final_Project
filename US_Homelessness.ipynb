{
 "cells": [
  {
   "cell_type": "code",
   "execution_count": 284,
   "id": "6ecd10eb-78e6-4df3-a6ae-ec82ead76f57",
   "metadata": {},
   "outputs": [
    {
     "data": {
      "text/html": [
       "        <script type=\"text/javascript\">\n",
       "        window.PlotlyConfig = {MathJaxConfig: 'local'};\n",
       "        if (window.MathJax && window.MathJax.Hub && window.MathJax.Hub.Config) {window.MathJax.Hub.Config({SVG: {font: \"STIX-Web\"}});}\n",
       "        if (typeof require !== 'undefined') {\n",
       "        require.undef(\"plotly\");\n",
       "        requirejs.config({\n",
       "            paths: {\n",
       "                'plotly': ['https://cdn.plot.ly/plotly-2.35.2.min']\n",
       "            }\n",
       "        });\n",
       "        require(['plotly'], function(Plotly) {\n",
       "            window._Plotly = Plotly;\n",
       "        });\n",
       "        }\n",
       "        </script>\n",
       "        "
      ]
     },
     "metadata": {},
     "output_type": "display_data"
    }
   ],
   "source": [
    "# Importing libraries\n",
    "import json\n",
    "import us\n",
    "import pandas as pd\n",
    "import re\n",
    "import numpy as np\n",
    "import matplotlib.pyplot as plt\n",
    "import seaborn as sns\n",
    "import plotly.offline as py\n",
    "import plotly.graph_objs as go\n",
    "import plotly.tools as tls\n",
    "py.init_notebook_mode(connected=True)\n",
    "sns.set(style=\"white\", color_codes=True)\n",
    "\n",
    "import sys\n",
    "sys.path.insert(0, '/Users/lizzieriordan/Desktop/Bootcamp/')\n",
    "import Functions_EDA\n",
    "\n",
    "import plotly.figure_factory as ff\n",
    "import plotly.express as px  \n",
    "import warnings\n",
    "warnings.filterwarnings('ignore')"
   ]
  },
  {
   "cell_type": "code",
   "execution_count": 285,
   "id": "0e19bb01-e8fa-4eac-b669-ee31a72ee75c",
   "metadata": {},
   "outputs": [
    {
     "name": "stdout",
     "output_type": "stream",
     "text": [
      "<class 'pandas.core.frame.DataFrame'>\n",
      "RangeIndex: 51 entries, 0 to 50\n",
      "Data columns (total 2 columns):\n",
      " #   Column                      Non-Null Count  Dtype  \n",
      "---  ------                      --------------  -----  \n",
      " 0   State                       51 non-null     object \n",
      " 1   Homeless people per 10,000  51 non-null     float64\n",
      "dtypes: float64(1), object(1)\n",
      "memory usage: 944.0+ bytes\n"
     ]
    }
   ],
   "source": [
    "# Import dataset from US department of Housing and Urban Development and assign to variable name 'df'\n",
    "df = pd.read_csv('/Users/lizzieriordan/Desktop/Final Project/homelessness by state.csv')\n",
    "df.info()"
   ]
  },
  {
   "cell_type": "code",
   "execution_count": 286,
   "id": "888368a8-8e61-432f-bb67-26a07472b4d4",
   "metadata": {},
   "outputs": [
    {
     "data": {
      "text/html": [
       "<div>\n",
       "<style scoped>\n",
       "    .dataframe tbody tr th:only-of-type {\n",
       "        vertical-align: middle;\n",
       "    }\n",
       "\n",
       "    .dataframe tbody tr th {\n",
       "        vertical-align: top;\n",
       "    }\n",
       "\n",
       "    .dataframe thead th {\n",
       "        text-align: right;\n",
       "    }\n",
       "</style>\n",
       "<table border=\"1\" class=\"dataframe\">\n",
       "  <thead>\n",
       "    <tr style=\"text-align: right;\">\n",
       "      <th></th>\n",
       "      <th>State</th>\n",
       "      <th>Homeless people per 10,000</th>\n",
       "    </tr>\n",
       "  </thead>\n",
       "  <tbody>\n",
       "    <tr>\n",
       "      <th>0</th>\n",
       "      <td>Washington, DC</td>\n",
       "      <td>72.491944</td>\n",
       "    </tr>\n",
       "    <tr>\n",
       "      <th>1</th>\n",
       "      <td>New York</td>\n",
       "      <td>52.730500</td>\n",
       "    </tr>\n",
       "    <tr>\n",
       "      <th>2</th>\n",
       "      <td>Vermont</td>\n",
       "      <td>50.890860</td>\n",
       "    </tr>\n",
       "    <tr>\n",
       "      <th>3</th>\n",
       "      <td>Oregon</td>\n",
       "      <td>47.579250</td>\n",
       "    </tr>\n",
       "    <tr>\n",
       "      <th>4</th>\n",
       "      <td>California</td>\n",
       "      <td>46.554113</td>\n",
       "    </tr>\n",
       "  </tbody>\n",
       "</table>\n",
       "</div>"
      ],
      "text/plain": [
       "            State  Homeless people per 10,000\n",
       "0  Washington, DC                   72.491944\n",
       "1        New York                   52.730500\n",
       "2         Vermont                   50.890860\n",
       "3          Oregon                   47.579250\n",
       "4      California                   46.554113"
      ]
     },
     "execution_count": 286,
     "metadata": {},
     "output_type": "execute_result"
    }
   ],
   "source": [
    "# Check first rows of data\n",
    "df.head(5)"
   ]
  },
  {
   "cell_type": "code",
   "execution_count": 287,
   "id": "6e9d573c-e4b6-46e7-885d-896100ec5c70",
   "metadata": {},
   "outputs": [
    {
     "data": {
      "text/plain": [
       "array(['Washington, DC', 'New York', 'Vermont', 'Oregon', 'California',\n",
       "       'Hawaii', 'Washington', 'Alaska', 'Maine', 'Massachusetts',\n",
       "       'Nevada', 'Colorado', 'Montana', 'Arizona', 'New Mexico',\n",
       "       'New Hampshire', 'Rhode Island', 'Minnesota', 'South Dakota',\n",
       "       'Florida', 'Tennessee', 'Nebraska', 'Delaware', 'Idaho',\n",
       "       'Oklahoma', 'Georgia', 'New Jersey', 'Missouri', 'Utah',\n",
       "       'Kentucky', 'North Dakota', 'Pennsylvania', 'Ohio', 'Illinois',\n",
       "       'Maryland', 'Wyoming', 'North Carolina', 'Texas', 'Kansas',\n",
       "       'Michigan', 'Indiana', 'Arkansas', 'Connecticut', 'Iowa',\n",
       "       'Wisconsin', 'West Virginia', 'Virginia', 'South Carolina',\n",
       "       'Louisiana', 'Alabama', 'Mississippi'], dtype=object)"
      ]
     },
     "execution_count": 287,
     "metadata": {},
     "output_type": "execute_result"
    }
   ],
   "source": [
    "# Check for irregularities in State names\n",
    "df['State'].unique()"
   ]
  },
  {
   "cell_type": "code",
   "execution_count": 288,
   "id": "26b6a0b1-57d6-4809-99c7-2ce8e5d80731",
   "metadata": {},
   "outputs": [
    {
     "data": {
      "text/html": [
       "<div>\n",
       "<style scoped>\n",
       "    .dataframe tbody tr th:only-of-type {\n",
       "        vertical-align: middle;\n",
       "    }\n",
       "\n",
       "    .dataframe tbody tr th {\n",
       "        vertical-align: top;\n",
       "    }\n",
       "\n",
       "    .dataframe thead th {\n",
       "        text-align: right;\n",
       "    }\n",
       "</style>\n",
       "<table border=\"1\" class=\"dataframe\">\n",
       "  <thead>\n",
       "    <tr style=\"text-align: right;\">\n",
       "      <th></th>\n",
       "      <th>States</th>\n",
       "      <th>2023_pop</th>\n",
       "    </tr>\n",
       "  </thead>\n",
       "  <tbody>\n",
       "    <tr>\n",
       "      <th>0</th>\n",
       "      <td>.Alabama</td>\n",
       "      <td>5,108,468</td>\n",
       "    </tr>\n",
       "    <tr>\n",
       "      <th>1</th>\n",
       "      <td>.Alaska</td>\n",
       "      <td>733,406</td>\n",
       "    </tr>\n",
       "    <tr>\n",
       "      <th>2</th>\n",
       "      <td>.Arizona</td>\n",
       "      <td>7,431,344</td>\n",
       "    </tr>\n",
       "    <tr>\n",
       "      <th>3</th>\n",
       "      <td>.Arkansas</td>\n",
       "      <td>3,067,732</td>\n",
       "    </tr>\n",
       "    <tr>\n",
       "      <th>4</th>\n",
       "      <td>.California</td>\n",
       "      <td>38,965,193</td>\n",
       "    </tr>\n",
       "  </tbody>\n",
       "</table>\n",
       "</div>"
      ],
      "text/plain": [
       "        States    2023_pop\n",
       "0     .Alabama   5,108,468\n",
       "1      .Alaska     733,406\n",
       "2     .Arizona   7,431,344\n",
       "3    .Arkansas   3,067,732\n",
       "4  .California  38,965,193"
      ]
     },
     "execution_count": 288,
     "metadata": {},
     "output_type": "execute_result"
    }
   ],
   "source": [
    "# Import dataset of total population of States in 2023 and assign to variable name 'population'\n",
    "population = pd.read_csv('/Users/lizzieriordan/Desktop/Final Project/population estimates - Sheet1.csv')\n",
    "population.head(5)"
   ]
  },
  {
   "cell_type": "code",
   "execution_count": 289,
   "id": "76b74b31-0fd8-4c77-b44b-ef0d54052c14",
   "metadata": {},
   "outputs": [
    {
     "name": "stdout",
     "output_type": "stream",
     "text": [
      "       States    2023_pop\n",
      "0     Alabama   5,108,468\n",
      "1      Alaska     733,406\n",
      "2     Arizona   7,431,344\n",
      "3    Arkansas   3,067,732\n",
      "4  California  38,965,193\n"
     ]
    }
   ],
   "source": [
    "# Remove the leading dot from state names\n",
    "population['States'] = population['States'].str.lstrip('.')\n",
    "\n",
    "# Preview the cleaned data\n",
    "print(population.head())"
   ]
  },
  {
   "cell_type": "code",
   "execution_count": 290,
   "id": "fe2f314a-dbc9-4d2d-acc9-0b13c99fb2e2",
   "metadata": {},
   "outputs": [
    {
     "name": "stdout",
     "output_type": "stream",
     "text": [
      "  State    2023_pop\n",
      "0    AL   5,108,468\n",
      "1    AK     733,406\n",
      "2    AZ   7,431,344\n",
      "3    AR   3,067,732\n",
      "4    CA  38,965,193\n",
      "  State  Homeless people per 10,000\n",
      "0  None                   72.491944\n",
      "1    NY                   52.730500\n",
      "2    VT                   50.890860\n",
      "3    OR                   47.579250\n",
      "4    CA                   46.554113\n"
     ]
    }
   ],
   "source": [
    "# Standardize column names\n",
    "population.rename(columns={'States': 'State'}, inplace=True)\n",
    "\n",
    "# Clean spaces from both datasets and make abbreviations\n",
    "population['State'] = population['State'].str.strip()\n",
    "df['State'] = df['State'].str.strip()\n",
    "\n",
    "population['State'] = population['State'].map(lambda x: us.states.lookup(x).abbr if us.states.lookup(x) else None)\n",
    "df['State'] = df['State'].map(lambda x: us.states.lookup(x).abbr if us.states.lookup(x) else None)\n",
    "\n",
    "# Preview both datasets\n",
    "print(population.head())\n",
    "print(df.head())"
   ]
  },
  {
   "cell_type": "code",
   "execution_count": 291,
   "id": "0af2c24f-3649-490c-8b52-8efe52fff219",
   "metadata": {},
   "outputs": [
    {
     "data": {
      "text/html": [
       "<div>\n",
       "<style scoped>\n",
       "    .dataframe tbody tr th:only-of-type {\n",
       "        vertical-align: middle;\n",
       "    }\n",
       "\n",
       "    .dataframe tbody tr th {\n",
       "        vertical-align: top;\n",
       "    }\n",
       "\n",
       "    .dataframe thead th {\n",
       "        text-align: right;\n",
       "    }\n",
       "</style>\n",
       "<table border=\"1\" class=\"dataframe\">\n",
       "  <thead>\n",
       "    <tr style=\"text-align: right;\">\n",
       "      <th></th>\n",
       "      <th>State</th>\n",
       "      <th>2023_pop</th>\n",
       "      <th>Homeless people per 10,000</th>\n",
       "    </tr>\n",
       "  </thead>\n",
       "  <tbody>\n",
       "    <tr>\n",
       "      <th>0</th>\n",
       "      <td>AL</td>\n",
       "      <td>5,108,468</td>\n",
       "      <td>6.467692</td>\n",
       "    </tr>\n",
       "    <tr>\n",
       "      <th>1</th>\n",
       "      <td>AK</td>\n",
       "      <td>733,406</td>\n",
       "      <td>35.641923</td>\n",
       "    </tr>\n",
       "    <tr>\n",
       "      <th>2</th>\n",
       "      <td>AZ</td>\n",
       "      <td>7,431,344</td>\n",
       "      <td>19.158042</td>\n",
       "    </tr>\n",
       "    <tr>\n",
       "      <th>3</th>\n",
       "      <td>AR</td>\n",
       "      <td>3,067,732</td>\n",
       "      <td>8.504654</td>\n",
       "    </tr>\n",
       "    <tr>\n",
       "      <th>4</th>\n",
       "      <td>CA</td>\n",
       "      <td>38,965,193</td>\n",
       "      <td>46.554113</td>\n",
       "    </tr>\n",
       "    <tr>\n",
       "      <th>5</th>\n",
       "      <td>CO</td>\n",
       "      <td>5,877,610</td>\n",
       "      <td>24.566108</td>\n",
       "    </tr>\n",
       "    <tr>\n",
       "      <th>6</th>\n",
       "      <td>CT</td>\n",
       "      <td>3,617,176</td>\n",
       "      <td>8.335232</td>\n",
       "    </tr>\n",
       "    <tr>\n",
       "      <th>7</th>\n",
       "      <td>DE</td>\n",
       "      <td>1,031,890</td>\n",
       "      <td>12.065240</td>\n",
       "    </tr>\n",
       "    <tr>\n",
       "      <th>8</th>\n",
       "      <td>DC</td>\n",
       "      <td>678,972</td>\n",
       "      <td>72.491944</td>\n",
       "    </tr>\n",
       "    <tr>\n",
       "      <th>9</th>\n",
       "      <td>FL</td>\n",
       "      <td>22,610,726</td>\n",
       "      <td>13.602394</td>\n",
       "    </tr>\n",
       "  </tbody>\n",
       "</table>\n",
       "</div>"
      ],
      "text/plain": [
       "  State    2023_pop  Homeless people per 10,000\n",
       "0    AL   5,108,468                    6.467692\n",
       "1    AK     733,406                   35.641923\n",
       "2    AZ   7,431,344                   19.158042\n",
       "3    AR   3,067,732                    8.504654\n",
       "4    CA  38,965,193                   46.554113\n",
       "5    CO   5,877,610                   24.566108\n",
       "6    CT   3,617,176                    8.335232\n",
       "7    DE   1,031,890                   12.065240\n",
       "8    DC     678,972                   72.491944\n",
       "9    FL  22,610,726                   13.602394"
      ]
     },
     "execution_count": 291,
     "metadata": {},
     "output_type": "execute_result"
    }
   ],
   "source": [
    "# Merge datasets on 'State' and assign to variable 'merged_data_old'\n",
    "merged_data_old = pd.merge(population, df, on='State', how='inner')\n",
    "\n",
    "# Change null value for Washington DC to abbreviation:\n",
    "merged_data_old.loc[merged_data_old['State'].isnull(), 'State'] = 'DC'\n",
    "\n",
    "# # Preview the merged dataset\n",
    "merged_data_old.head(10)"
   ]
  },
  {
   "cell_type": "code",
   "execution_count": 292,
   "id": "55fc4e89-1a37-42d8-9192-2dc9096c4a36",
   "metadata": {},
   "outputs": [
    {
     "data": {
      "text/plain": [
       "State                          object\n",
       "2023_pop                       object\n",
       "Homeless people per 10,000    float64\n",
       "dtype: object"
      ]
     },
     "execution_count": 292,
     "metadata": {},
     "output_type": "execute_result"
    }
   ],
   "source": [
    "merged_data_old.dtypes"
   ]
  },
  {
   "cell_type": "code",
   "execution_count": 293,
   "id": "d8b474b5-0ed9-468a-80bb-3370368b8d1b",
   "metadata": {},
   "outputs": [],
   "source": [
    "# Change 2023_pop column to int in order to find percentages\n",
    "merged_data_old['2023_pop'] = merged_data_old['2023_pop'].replace(',', '', regex=True).astype(int)\n",
    "merged_data_old['Homeless people per 10,000'] = merged_data_old['Homeless people per 10,000'].replace(',', '', regex=True).astype(int)"
   ]
  },
  {
   "cell_type": "code",
   "execution_count": 294,
   "id": "5327cf1e-b6d7-4e13-84ad-08b4b372f321",
   "metadata": {},
   "outputs": [],
   "source": [
    "# Create 2 copies of merged dataset to work with\n",
    "new = merged_data_old.copy()\n",
    "copy_df = merged_data_old.copy()"
   ]
  },
  {
   "cell_type": "code",
   "execution_count": 295,
   "id": "58b4bb88-cce7-4432-be42-0235793e8554",
   "metadata": {},
   "outputs": [
    {
     "name": "stdout",
     "output_type": "stream",
     "text": [
      "State                         object\n",
      "2023_pop                       int64\n",
      "Homeless people per 10,000     int64\n",
      "dtype: object\n"
     ]
    }
   ],
   "source": [
    "# Check data types of copy\n",
    "print(new.dtypes)"
   ]
  },
  {
   "cell_type": "code",
   "execution_count": 296,
   "id": "8e9cd76e-c7a7-4e1f-9fce-5fb77e0a0063",
   "metadata": {},
   "outputs": [
    {
     "data": {
      "text/html": [
       "<div>\n",
       "<style scoped>\n",
       "    .dataframe tbody tr th:only-of-type {\n",
       "        vertical-align: middle;\n",
       "    }\n",
       "\n",
       "    .dataframe tbody tr th {\n",
       "        vertical-align: top;\n",
       "    }\n",
       "\n",
       "    .dataframe thead th {\n",
       "        text-align: right;\n",
       "    }\n",
       "</style>\n",
       "<table border=\"1\" class=\"dataframe\">\n",
       "  <thead>\n",
       "    <tr style=\"text-align: right;\">\n",
       "      <th></th>\n",
       "      <th>State</th>\n",
       "      <th>2023_pop</th>\n",
       "      <th>Homeless people per 10,000</th>\n",
       "      <th>Total Homeless</th>\n",
       "      <th>% individuals experiencing homelessness</th>\n",
       "    </tr>\n",
       "  </thead>\n",
       "  <tbody>\n",
       "    <tr>\n",
       "      <th>0</th>\n",
       "      <td>AL</td>\n",
       "      <td>5108468</td>\n",
       "      <td>6</td>\n",
       "      <td>3065</td>\n",
       "      <td>0.06%</td>\n",
       "    </tr>\n",
       "    <tr>\n",
       "      <th>1</th>\n",
       "      <td>AK</td>\n",
       "      <td>733406</td>\n",
       "      <td>35</td>\n",
       "      <td>2567</td>\n",
       "      <td>0.35%</td>\n",
       "    </tr>\n",
       "    <tr>\n",
       "      <th>2</th>\n",
       "      <td>AZ</td>\n",
       "      <td>7431344</td>\n",
       "      <td>19</td>\n",
       "      <td>14120</td>\n",
       "      <td>0.19%</td>\n",
       "    </tr>\n",
       "    <tr>\n",
       "      <th>3</th>\n",
       "      <td>AR</td>\n",
       "      <td>3067732</td>\n",
       "      <td>8</td>\n",
       "      <td>2454</td>\n",
       "      <td>0.08%</td>\n",
       "    </tr>\n",
       "    <tr>\n",
       "      <th>4</th>\n",
       "      <td>CA</td>\n",
       "      <td>38965193</td>\n",
       "      <td>46</td>\n",
       "      <td>179240</td>\n",
       "      <td>0.46%</td>\n",
       "    </tr>\n",
       "    <tr>\n",
       "      <th>5</th>\n",
       "      <td>CO</td>\n",
       "      <td>5877610</td>\n",
       "      <td>24</td>\n",
       "      <td>14106</td>\n",
       "      <td>0.24%</td>\n",
       "    </tr>\n",
       "    <tr>\n",
       "      <th>6</th>\n",
       "      <td>CT</td>\n",
       "      <td>3617176</td>\n",
       "      <td>8</td>\n",
       "      <td>2894</td>\n",
       "      <td>0.08%</td>\n",
       "    </tr>\n",
       "    <tr>\n",
       "      <th>7</th>\n",
       "      <td>DE</td>\n",
       "      <td>1031890</td>\n",
       "      <td>12</td>\n",
       "      <td>1238</td>\n",
       "      <td>0.12%</td>\n",
       "    </tr>\n",
       "    <tr>\n",
       "      <th>8</th>\n",
       "      <td>DC</td>\n",
       "      <td>678972</td>\n",
       "      <td>72</td>\n",
       "      <td>4889</td>\n",
       "      <td>0.72%</td>\n",
       "    </tr>\n",
       "    <tr>\n",
       "      <th>9</th>\n",
       "      <td>FL</td>\n",
       "      <td>22610726</td>\n",
       "      <td>13</td>\n",
       "      <td>29394</td>\n",
       "      <td>0.13%</td>\n",
       "    </tr>\n",
       "  </tbody>\n",
       "</table>\n",
       "</div>"
      ],
      "text/plain": [
       "  State  2023_pop  Homeless people per 10,000  Total Homeless  \\\n",
       "0    AL   5108468                           6            3065   \n",
       "1    AK    733406                          35            2567   \n",
       "2    AZ   7431344                          19           14120   \n",
       "3    AR   3067732                           8            2454   \n",
       "4    CA  38965193                          46          179240   \n",
       "5    CO   5877610                          24           14106   \n",
       "6    CT   3617176                           8            2894   \n",
       "7    DE   1031890                          12            1238   \n",
       "8    DC    678972                          72            4889   \n",
       "9    FL  22610726                          13           29394   \n",
       "\n",
       "  % individuals experiencing homelessness  \n",
       "0                                   0.06%  \n",
       "1                                   0.35%  \n",
       "2                                   0.19%  \n",
       "3                                   0.08%  \n",
       "4                                   0.46%  \n",
       "5                                   0.24%  \n",
       "6                                   0.08%  \n",
       "7                                   0.12%  \n",
       "8                                   0.72%  \n",
       "9                                   0.13%  "
      ]
     },
     "execution_count": 296,
     "metadata": {},
     "output_type": "execute_result"
    }
   ],
   "source": [
    "# Calculate the total number of homeless people and create new column\n",
    "new['Total Homeless'] = (new['Homeless people per 10,000'] / 10_000) * new['2023_pop']\n",
    "\n",
    "# Calculate the percentage of the total population\n",
    "new['% individuals experiencing homelessness'] = new['Total Homeless'] / new['2023_pop'] * 100\n",
    "new['Total Homeless'] = new['Total Homeless'].round(0).astype(int)\n",
    "\n",
    "# Format as percentage with 2 decimal places\n",
    "new['% individuals experiencing homelessness'] = new['% individuals experiencing homelessness'].apply(lambda x: '{:.2f}%'.format(x))\n",
    "\n",
    "# Change state names to abbreviations:\n",
    "new['State'] = new['State'].map(lambda x: us.states.lookup(x).abbr if isinstance(x, str) and us.states.lookup(x) else None)\n",
    "\n",
    "# Sort high to low values\n",
    "new.sort_values(by='% individuals experiencing homelessness', ascending=False)\n",
    "\n",
    "# Change DC\n",
    "new.loc[new['State'].isnull(), 'State'] = 'DC'\n",
    "\n",
    "# show data\n",
    "new.head(10)"
   ]
  },
  {
   "cell_type": "code",
   "execution_count": 297,
   "id": "2af2c2bf-d316-4b2e-a3b1-86b6307f4e34",
   "metadata": {},
   "outputs": [],
   "source": [
    "# Create dataframe for lower states\n",
    "lower_5_states = new.sort_values(by='% individuals experiencing homelessness', ascending=False).tail(5).reset_index()"
   ]
  },
  {
   "cell_type": "markdown",
   "id": "aed2629d-dd7a-4d71-83ff-0cc49c22b1cc",
   "metadata": {},
   "source": [
    "Create choropleth of homeless population by percentage per State"
   ]
  },
  {
   "cell_type": "code",
   "execution_count": 298,
   "id": "c2c06c30-8831-4ea1-9dac-8e97eebceb30",
   "metadata": {},
   "outputs": [
    {
     "data": {
      "application/vnd.plotly.v1+json": {
       "config": {
        "plotlyServerURL": "https://plot.ly"
       },
       "data": [
        {
         "coloraxis": "coloraxis",
         "geo": "geo",
         "hovertemplate": "State=%{location}<br>(%) per State Population=%{z}<extra></extra>",
         "locationmode": "USA-states",
         "locations": [
          "AL",
          "AK",
          "AZ",
          "AR",
          "CA",
          "CO",
          "CT",
          "DE",
          "DC",
          "FL",
          "GA",
          "HI",
          "ID",
          "IL",
          "IN",
          "IA",
          "KS",
          "KY",
          "LA",
          "ME",
          "MD",
          "MA",
          "MI",
          "MN",
          "MS",
          "MO",
          "MT",
          "NE",
          "NV",
          "NH",
          "NJ",
          "NM",
          "NY",
          "NC",
          "ND",
          "OH",
          "OK",
          "OR",
          "PA",
          "RI",
          "SC",
          "SD",
          "TN",
          "TX",
          "UT",
          "VT",
          "VA",
          "WA",
          "WV",
          "WI",
          "WY"
         ],
         "name": "",
         "type": "choropleth",
         "z": [
          0.06,
          0.35,
          0.19,
          0.08,
          0.46,
          0.24,
          0.08,
          0.12,
          0.72,
          0.13,
          0.11,
          0.43,
          0.11,
          0.09,
          0.08,
          0.08,
          0.08,
          0.1,
          0.06,
          0.3,
          0.09,
          0.27,
          0.08,
          0.14,
          0.03,
          0.1,
          0.19,
          0.12,
          0.27,
          0.17,
          0.11,
          0.18,
          0.52,
          0.09,
          0.1,
          0.09,
          0.11,
          0.47,
          0.09,
          0.16,
          0.07,
          0.13,
          0.12,
          0.08,
          0.1,
          0.5,
          0.07,
          0.35,
          0.07,
          0.08,
          0.09
         ]
        },
        {
         "lat": [
          38.9072,
          38.9072
         ],
         "line": {
          "color": "black",
          "width": 2
         },
         "locationmode": "USA-states",
         "lon": [
          -77.0369,
          -65
         ],
         "mode": "lines+text",
         "showlegend": false,
         "text": [
          "",
          "DC: 0.72"
         ],
         "textposition": "top center",
         "type": "scattergeo"
        }
       ],
       "layout": {
        "coloraxis": {
         "colorbar": {
          "title": {
           "text": "(%) per State Population"
          }
         },
         "colorscale": [
          [
           0,
           "rgb(253, 253, 204)"
          ],
          [
           0.09090909090909091,
           "rgb(206, 236, 179)"
          ],
          [
           0.18181818181818182,
           "rgb(156, 219, 165)"
          ],
          [
           0.2727272727272727,
           "rgb(111, 201, 163)"
          ],
          [
           0.36363636363636365,
           "rgb(86, 177, 163)"
          ],
          [
           0.45454545454545453,
           "rgb(76, 153, 160)"
          ],
          [
           0.5454545454545454,
           "rgb(68, 130, 155)"
          ],
          [
           0.6363636363636364,
           "rgb(62, 108, 150)"
          ],
          [
           0.7272727272727273,
           "rgb(62, 82, 143)"
          ],
          [
           0.8181818181818182,
           "rgb(64, 60, 115)"
          ],
          [
           0.9090909090909091,
           "rgb(54, 43, 77)"
          ],
          [
           1,
           "rgb(39, 26, 44)"
          ]
         ]
        },
        "geo": {
         "center": {},
         "domain": {
          "x": [
           0,
           1
          ],
          "y": [
           0,
           1
          ]
         },
         "scope": "usa"
        },
        "height": 800,
        "legend": {
         "tracegroupgap": 0
        },
        "template": {
         "data": {
          "bar": [
           {
            "error_x": {
             "color": "#2a3f5f"
            },
            "error_y": {
             "color": "#2a3f5f"
            },
            "marker": {
             "line": {
              "color": "#E5ECF6",
              "width": 0.5
             },
             "pattern": {
              "fillmode": "overlay",
              "size": 10,
              "solidity": 0.2
             }
            },
            "type": "bar"
           }
          ],
          "barpolar": [
           {
            "marker": {
             "line": {
              "color": "#E5ECF6",
              "width": 0.5
             },
             "pattern": {
              "fillmode": "overlay",
              "size": 10,
              "solidity": 0.2
             }
            },
            "type": "barpolar"
           }
          ],
          "carpet": [
           {
            "aaxis": {
             "endlinecolor": "#2a3f5f",
             "gridcolor": "white",
             "linecolor": "white",
             "minorgridcolor": "white",
             "startlinecolor": "#2a3f5f"
            },
            "baxis": {
             "endlinecolor": "#2a3f5f",
             "gridcolor": "white",
             "linecolor": "white",
             "minorgridcolor": "white",
             "startlinecolor": "#2a3f5f"
            },
            "type": "carpet"
           }
          ],
          "choropleth": [
           {
            "colorbar": {
             "outlinewidth": 0,
             "ticks": ""
            },
            "type": "choropleth"
           }
          ],
          "contour": [
           {
            "colorbar": {
             "outlinewidth": 0,
             "ticks": ""
            },
            "colorscale": [
             [
              0,
              "#0d0887"
             ],
             [
              0.1111111111111111,
              "#46039f"
             ],
             [
              0.2222222222222222,
              "#7201a8"
             ],
             [
              0.3333333333333333,
              "#9c179e"
             ],
             [
              0.4444444444444444,
              "#bd3786"
             ],
             [
              0.5555555555555556,
              "#d8576b"
             ],
             [
              0.6666666666666666,
              "#ed7953"
             ],
             [
              0.7777777777777778,
              "#fb9f3a"
             ],
             [
              0.8888888888888888,
              "#fdca26"
             ],
             [
              1,
              "#f0f921"
             ]
            ],
            "type": "contour"
           }
          ],
          "contourcarpet": [
           {
            "colorbar": {
             "outlinewidth": 0,
             "ticks": ""
            },
            "type": "contourcarpet"
           }
          ],
          "heatmap": [
           {
            "colorbar": {
             "outlinewidth": 0,
             "ticks": ""
            },
            "colorscale": [
             [
              0,
              "#0d0887"
             ],
             [
              0.1111111111111111,
              "#46039f"
             ],
             [
              0.2222222222222222,
              "#7201a8"
             ],
             [
              0.3333333333333333,
              "#9c179e"
             ],
             [
              0.4444444444444444,
              "#bd3786"
             ],
             [
              0.5555555555555556,
              "#d8576b"
             ],
             [
              0.6666666666666666,
              "#ed7953"
             ],
             [
              0.7777777777777778,
              "#fb9f3a"
             ],
             [
              0.8888888888888888,
              "#fdca26"
             ],
             [
              1,
              "#f0f921"
             ]
            ],
            "type": "heatmap"
           }
          ],
          "heatmapgl": [
           {
            "colorbar": {
             "outlinewidth": 0,
             "ticks": ""
            },
            "colorscale": [
             [
              0,
              "#0d0887"
             ],
             [
              0.1111111111111111,
              "#46039f"
             ],
             [
              0.2222222222222222,
              "#7201a8"
             ],
             [
              0.3333333333333333,
              "#9c179e"
             ],
             [
              0.4444444444444444,
              "#bd3786"
             ],
             [
              0.5555555555555556,
              "#d8576b"
             ],
             [
              0.6666666666666666,
              "#ed7953"
             ],
             [
              0.7777777777777778,
              "#fb9f3a"
             ],
             [
              0.8888888888888888,
              "#fdca26"
             ],
             [
              1,
              "#f0f921"
             ]
            ],
            "type": "heatmapgl"
           }
          ],
          "histogram": [
           {
            "marker": {
             "pattern": {
              "fillmode": "overlay",
              "size": 10,
              "solidity": 0.2
             }
            },
            "type": "histogram"
           }
          ],
          "histogram2d": [
           {
            "colorbar": {
             "outlinewidth": 0,
             "ticks": ""
            },
            "colorscale": [
             [
              0,
              "#0d0887"
             ],
             [
              0.1111111111111111,
              "#46039f"
             ],
             [
              0.2222222222222222,
              "#7201a8"
             ],
             [
              0.3333333333333333,
              "#9c179e"
             ],
             [
              0.4444444444444444,
              "#bd3786"
             ],
             [
              0.5555555555555556,
              "#d8576b"
             ],
             [
              0.6666666666666666,
              "#ed7953"
             ],
             [
              0.7777777777777778,
              "#fb9f3a"
             ],
             [
              0.8888888888888888,
              "#fdca26"
             ],
             [
              1,
              "#f0f921"
             ]
            ],
            "type": "histogram2d"
           }
          ],
          "histogram2dcontour": [
           {
            "colorbar": {
             "outlinewidth": 0,
             "ticks": ""
            },
            "colorscale": [
             [
              0,
              "#0d0887"
             ],
             [
              0.1111111111111111,
              "#46039f"
             ],
             [
              0.2222222222222222,
              "#7201a8"
             ],
             [
              0.3333333333333333,
              "#9c179e"
             ],
             [
              0.4444444444444444,
              "#bd3786"
             ],
             [
              0.5555555555555556,
              "#d8576b"
             ],
             [
              0.6666666666666666,
              "#ed7953"
             ],
             [
              0.7777777777777778,
              "#fb9f3a"
             ],
             [
              0.8888888888888888,
              "#fdca26"
             ],
             [
              1,
              "#f0f921"
             ]
            ],
            "type": "histogram2dcontour"
           }
          ],
          "mesh3d": [
           {
            "colorbar": {
             "outlinewidth": 0,
             "ticks": ""
            },
            "type": "mesh3d"
           }
          ],
          "parcoords": [
           {
            "line": {
             "colorbar": {
              "outlinewidth": 0,
              "ticks": ""
             }
            },
            "type": "parcoords"
           }
          ],
          "pie": [
           {
            "automargin": true,
            "type": "pie"
           }
          ],
          "scatter": [
           {
            "fillpattern": {
             "fillmode": "overlay",
             "size": 10,
             "solidity": 0.2
            },
            "type": "scatter"
           }
          ],
          "scatter3d": [
           {
            "line": {
             "colorbar": {
              "outlinewidth": 0,
              "ticks": ""
             }
            },
            "marker": {
             "colorbar": {
              "outlinewidth": 0,
              "ticks": ""
             }
            },
            "type": "scatter3d"
           }
          ],
          "scattercarpet": [
           {
            "marker": {
             "colorbar": {
              "outlinewidth": 0,
              "ticks": ""
             }
            },
            "type": "scattercarpet"
           }
          ],
          "scattergeo": [
           {
            "marker": {
             "colorbar": {
              "outlinewidth": 0,
              "ticks": ""
             }
            },
            "type": "scattergeo"
           }
          ],
          "scattergl": [
           {
            "marker": {
             "colorbar": {
              "outlinewidth": 0,
              "ticks": ""
             }
            },
            "type": "scattergl"
           }
          ],
          "scattermapbox": [
           {
            "marker": {
             "colorbar": {
              "outlinewidth": 0,
              "ticks": ""
             }
            },
            "type": "scattermapbox"
           }
          ],
          "scatterpolar": [
           {
            "marker": {
             "colorbar": {
              "outlinewidth": 0,
              "ticks": ""
             }
            },
            "type": "scatterpolar"
           }
          ],
          "scatterpolargl": [
           {
            "marker": {
             "colorbar": {
              "outlinewidth": 0,
              "ticks": ""
             }
            },
            "type": "scatterpolargl"
           }
          ],
          "scatterternary": [
           {
            "marker": {
             "colorbar": {
              "outlinewidth": 0,
              "ticks": ""
             }
            },
            "type": "scatterternary"
           }
          ],
          "surface": [
           {
            "colorbar": {
             "outlinewidth": 0,
             "ticks": ""
            },
            "colorscale": [
             [
              0,
              "#0d0887"
             ],
             [
              0.1111111111111111,
              "#46039f"
             ],
             [
              0.2222222222222222,
              "#7201a8"
             ],
             [
              0.3333333333333333,
              "#9c179e"
             ],
             [
              0.4444444444444444,
              "#bd3786"
             ],
             [
              0.5555555555555556,
              "#d8576b"
             ],
             [
              0.6666666666666666,
              "#ed7953"
             ],
             [
              0.7777777777777778,
              "#fb9f3a"
             ],
             [
              0.8888888888888888,
              "#fdca26"
             ],
             [
              1,
              "#f0f921"
             ]
            ],
            "type": "surface"
           }
          ],
          "table": [
           {
            "cells": {
             "fill": {
              "color": "#EBF0F8"
             },
             "line": {
              "color": "white"
             }
            },
            "header": {
             "fill": {
              "color": "#C8D4E3"
             },
             "line": {
              "color": "white"
             }
            },
            "type": "table"
           }
          ]
         },
         "layout": {
          "annotationdefaults": {
           "arrowcolor": "#2a3f5f",
           "arrowhead": 0,
           "arrowwidth": 1
          },
          "autotypenumbers": "strict",
          "coloraxis": {
           "colorbar": {
            "outlinewidth": 0,
            "ticks": ""
           }
          },
          "colorscale": {
           "diverging": [
            [
             0,
             "#8e0152"
            ],
            [
             0.1,
             "#c51b7d"
            ],
            [
             0.2,
             "#de77ae"
            ],
            [
             0.3,
             "#f1b6da"
            ],
            [
             0.4,
             "#fde0ef"
            ],
            [
             0.5,
             "#f7f7f7"
            ],
            [
             0.6,
             "#e6f5d0"
            ],
            [
             0.7,
             "#b8e186"
            ],
            [
             0.8,
             "#7fbc41"
            ],
            [
             0.9,
             "#4d9221"
            ],
            [
             1,
             "#276419"
            ]
           ],
           "sequential": [
            [
             0,
             "#0d0887"
            ],
            [
             0.1111111111111111,
             "#46039f"
            ],
            [
             0.2222222222222222,
             "#7201a8"
            ],
            [
             0.3333333333333333,
             "#9c179e"
            ],
            [
             0.4444444444444444,
             "#bd3786"
            ],
            [
             0.5555555555555556,
             "#d8576b"
            ],
            [
             0.6666666666666666,
             "#ed7953"
            ],
            [
             0.7777777777777778,
             "#fb9f3a"
            ],
            [
             0.8888888888888888,
             "#fdca26"
            ],
            [
             1,
             "#f0f921"
            ]
           ],
           "sequentialminus": [
            [
             0,
             "#0d0887"
            ],
            [
             0.1111111111111111,
             "#46039f"
            ],
            [
             0.2222222222222222,
             "#7201a8"
            ],
            [
             0.3333333333333333,
             "#9c179e"
            ],
            [
             0.4444444444444444,
             "#bd3786"
            ],
            [
             0.5555555555555556,
             "#d8576b"
            ],
            [
             0.6666666666666666,
             "#ed7953"
            ],
            [
             0.7777777777777778,
             "#fb9f3a"
            ],
            [
             0.8888888888888888,
             "#fdca26"
            ],
            [
             1,
             "#f0f921"
            ]
           ]
          },
          "colorway": [
           "#636efa",
           "#EF553B",
           "#00cc96",
           "#ab63fa",
           "#FFA15A",
           "#19d3f3",
           "#FF6692",
           "#B6E880",
           "#FF97FF",
           "#FECB52"
          ],
          "font": {
           "color": "#2a3f5f"
          },
          "geo": {
           "bgcolor": "white",
           "lakecolor": "white",
           "landcolor": "#E5ECF6",
           "showlakes": true,
           "showland": true,
           "subunitcolor": "white"
          },
          "hoverlabel": {
           "align": "left"
          },
          "hovermode": "closest",
          "mapbox": {
           "style": "light"
          },
          "paper_bgcolor": "white",
          "plot_bgcolor": "#E5ECF6",
          "polar": {
           "angularaxis": {
            "gridcolor": "white",
            "linecolor": "white",
            "ticks": ""
           },
           "bgcolor": "#E5ECF6",
           "radialaxis": {
            "gridcolor": "white",
            "linecolor": "white",
            "ticks": ""
           }
          },
          "scene": {
           "xaxis": {
            "backgroundcolor": "#E5ECF6",
            "gridcolor": "white",
            "gridwidth": 2,
            "linecolor": "white",
            "showbackground": true,
            "ticks": "",
            "zerolinecolor": "white"
           },
           "yaxis": {
            "backgroundcolor": "#E5ECF6",
            "gridcolor": "white",
            "gridwidth": 2,
            "linecolor": "white",
            "showbackground": true,
            "ticks": "",
            "zerolinecolor": "white"
           },
           "zaxis": {
            "backgroundcolor": "#E5ECF6",
            "gridcolor": "white",
            "gridwidth": 2,
            "linecolor": "white",
            "showbackground": true,
            "ticks": "",
            "zerolinecolor": "white"
           }
          },
          "shapedefaults": {
           "line": {
            "color": "#2a3f5f"
           }
          },
          "ternary": {
           "aaxis": {
            "gridcolor": "white",
            "linecolor": "white",
            "ticks": ""
           },
           "baxis": {
            "gridcolor": "white",
            "linecolor": "white",
            "ticks": ""
           },
           "bgcolor": "#E5ECF6",
           "caxis": {
            "gridcolor": "white",
            "linecolor": "white",
            "ticks": ""
           }
          },
          "title": {
           "x": 0.05
          },
          "xaxis": {
           "automargin": true,
           "gridcolor": "white",
           "linecolor": "white",
           "ticks": "",
           "title": {
            "standoff": 15
           },
           "zerolinecolor": "white",
           "zerolinewidth": 2
          },
          "yaxis": {
           "automargin": true,
           "gridcolor": "white",
           "linecolor": "white",
           "ticks": "",
           "title": {
            "standoff": 15
           },
           "zerolinecolor": "white",
           "zerolinewidth": 2
          }
         }
        },
        "title": {
         "font": {
          "color": "black",
          "family": "Roboto",
          "size": 20
         },
         "text": "Percentage of Individuals Experiencing Homelessness by State",
         "x": 0.5,
         "xanchor": "center",
         "yanchor": "top"
        },
        "width": 1000
       }
      },
      "image/png": "[encoded data removed]",
      "text/html": [
       "<div>                            <div id=\"349af3cc-a66d-4507-8ee1-7d70155b5480\" class=\"plotly-graph-div\" style=\"height:800px; width:1000px;\"></div>            <script type=\"text/javascript\">                require([\"plotly\"], function(Plotly) {                    window.PLOTLYENV=window.PLOTLYENV || {};                                    if (document.getElementById(\"349af3cc-a66d-4507-8ee1-7d70155b5480\")) {                    Plotly.newPlot(                        \"349af3cc-a66d-4507-8ee1-7d70155b5480\",                        [{\"coloraxis\":\"coloraxis\",\"geo\":\"geo\",\"hovertemplate\":\"State=%{location}\\u003cbr\\u003e(%) per State Population=%{z}\\u003cextra\\u003e\\u003c\\u002fextra\\u003e\",\"locationmode\":\"USA-states\",\"locations\":[\"AL\",\"AK\",\"AZ\",\"AR\",\"CA\",\"CO\",\"CT\",\"DE\",\"DC\",\"FL\",\"GA\",\"HI\",\"ID\",\"IL\",\"IN\",\"IA\",\"KS\",\"KY\",\"LA\",\"ME\",\"MD\",\"MA\",\"MI\",\"MN\",\"MS\",\"MO\",\"MT\",\"NE\",\"NV\",\"NH\",\"NJ\",\"NM\",\"NY\",\"NC\",\"ND\",\"OH\",\"OK\",\"OR\",\"PA\",\"RI\",\"SC\",\"SD\",\"TN\",\"TX\",\"UT\",\"VT\",\"VA\",\"WA\",\"WV\",\"WI\",\"WY\"],\"name\":\"\",\"z\":[0.06,0.35,0.19,0.08,0.46,0.24,0.08,0.12,0.72,0.13,0.11,0.43,0.11,0.09,0.08,0.08,0.08,0.1,0.06,0.3,0.09,0.27,0.08,0.14,0.03,0.1,0.19,0.12,0.27,0.17,0.11,0.18,0.52,0.09,0.1,0.09,0.11,0.47,0.09,0.16,0.07,0.13,0.12,0.08,0.1,0.5,0.07,0.35,0.07,0.08,0.09],\"type\":\"choropleth\"},{\"lat\":[38.9072,38.9072],\"line\":{\"color\":\"black\",\"width\":2},\"locationmode\":\"USA-states\",\"lon\":[-77.0369,-65],\"mode\":\"lines+text\",\"showlegend\":false,\"text\":[\"\",\"DC: 0.72\"],\"textposition\":\"top center\",\"type\":\"scattergeo\"}],                        {\"template\":{\"data\":{\"histogram2dcontour\":[{\"type\":\"histogram2dcontour\",\"colorbar\":{\"outlinewidth\":0,\"ticks\":\"\"},\"colorscale\":[[0.0,\"#0d0887\"],[0.1111111111111111,\"#46039f\"],[0.2222222222222222,\"#7201a8\"],[0.3333333333333333,\"#9c179e\"],[0.4444444444444444,\"#bd3786\"],[0.5555555555555556,\"#d8576b\"],[0.6666666666666666,\"#ed7953\"],[0.7777777777777778,\"#fb9f3a\"],[0.8888888888888888,\"#fdca26\"],[1.0,\"#f0f921\"]]}],\"choropleth\":[{\"type\":\"choropleth\",\"colorbar\":{\"outlinewidth\":0,\"ticks\":\"\"}}],\"histogram2d\":[{\"type\":\"histogram2d\",\"colorbar\":{\"outlinewidth\":0,\"ticks\":\"\"},\"colorscale\":[[0.0,\"#0d0887\"],[0.1111111111111111,\"#46039f\"],[0.2222222222222222,\"#7201a8\"],[0.3333333333333333,\"#9c179e\"],[0.4444444444444444,\"#bd3786\"],[0.5555555555555556,\"#d8576b\"],[0.6666666666666666,\"#ed7953\"],[0.7777777777777778,\"#fb9f3a\"],[0.8888888888888888,\"#fdca26\"],[1.0,\"#f0f921\"]]}],\"heatmap\":[{\"type\":\"heatmap\",\"colorbar\":{\"outlinewidth\":0,\"ticks\":\"\"},\"colorscale\":[[0.0,\"#0d0887\"],[0.1111111111111111,\"#46039f\"],[0.2222222222222222,\"#7201a8\"],[0.3333333333333333,\"#9c179e\"],[0.4444444444444444,\"#bd3786\"],[0.5555555555555556,\"#d8576b\"],[0.6666666666666666,\"#ed7953\"],[0.7777777777777778,\"#fb9f3a\"],[0.8888888888888888,\"#fdca26\"],[1.0,\"#f0f921\"]]}],\"heatmapgl\":[{\"type\":\"heatmapgl\",\"colorbar\":{\"outlinewidth\":0,\"ticks\":\"\"},\"colorscale\":[[0.0,\"#0d0887\"],[0.1111111111111111,\"#46039f\"],[0.2222222222222222,\"#7201a8\"],[0.3333333333333333,\"#9c179e\"],[0.4444444444444444,\"#bd3786\"],[0.5555555555555556,\"#d8576b\"],[0.6666666666666666,\"#ed7953\"],[0.7777777777777778,\"#fb9f3a\"],[0.8888888888888888,\"#fdca26\"],[1.0,\"#f0f921\"]]}],\"contourcarpet\":[{\"type\":\"contourcarpet\",\"colorbar\":{\"outlinewidth\":0,\"ticks\":\"\"}}],\"contour\":[{\"type\":\"contour\",\"colorbar\":{\"outlinewidth\":0,\"ticks\":\"\"},\"colorscale\":[[0.0,\"#0d0887\"],[0.1111111111111111,\"#46039f\"],[0.2222222222222222,\"#7201a8\"],[0.3333333333333333,\"#9c179e\"],[0.4444444444444444,\"#bd3786\"],[0.5555555555555556,\"#d8576b\"],[0.6666666666666666,\"#ed7953\"],[0.7777777777777778,\"#fb9f3a\"],[0.8888888888888888,\"#fdca26\"],[1.0,\"#f0f921\"]]}],\"surface\":[{\"type\":\"surface\",\"colorbar\":{\"outlinewidth\":0,\"ticks\":\"\"},\"colorscale\":[[0.0,\"#0d0887\"],[0.1111111111111111,\"#46039f\"],[0.2222222222222222,\"#7201a8\"],[0.3333333333333333,\"#9c179e\"],[0.4444444444444444,\"#bd3786\"],[0.5555555555555556,\"#d8576b\"],[0.6666666666666666,\"#ed7953\"],[0.7777777777777778,\"#fb9f3a\"],[0.8888888888888888,\"#fdca26\"],[1.0,\"#f0f921\"]]}],\"mesh3d\":[{\"type\":\"mesh3d\",\"colorbar\":{\"outlinewidth\":0,\"ticks\":\"\"}}],\"scatter\":[{\"fillpattern\":{\"fillmode\":\"overlay\",\"size\":10,\"solidity\":0.2},\"type\":\"scatter\"}],\"parcoords\":[{\"type\":\"parcoords\",\"line\":{\"colorbar\":{\"outlinewidth\":0,\"ticks\":\"\"}}}],\"scatterpolargl\":[{\"type\":\"scatterpolargl\",\"marker\":{\"colorbar\":{\"outlinewidth\":0,\"ticks\":\"\"}}}],\"bar\":[{\"error_x\":{\"color\":\"#2a3f5f\"},\"error_y\":{\"color\":\"#2a3f5f\"},\"marker\":{\"line\":{\"color\":\"#E5ECF6\",\"width\":0.5},\"pattern\":{\"fillmode\":\"overlay\",\"size\":10,\"solidity\":0.2}},\"type\":\"bar\"}],\"scattergeo\":[{\"type\":\"scattergeo\",\"marker\":{\"colorbar\":{\"outlinewidth\":0,\"ticks\":\"\"}}}],\"scatterpolar\":[{\"type\":\"scatterpolar\",\"marker\":{\"colorbar\":{\"outlinewidth\":0,\"ticks\":\"\"}}}],\"histogram\":[{\"marker\":{\"pattern\":{\"fillmode\":\"overlay\",\"size\":10,\"solidity\":0.2}},\"type\":\"histogram\"}],\"scattergl\":[{\"type\":\"scattergl\",\"marker\":{\"colorbar\":{\"outlinewidth\":0,\"ticks\":\"\"}}}],\"scatter3d\":[{\"type\":\"scatter3d\",\"line\":{\"colorbar\":{\"outlinewidth\":0,\"ticks\":\"\"}},\"marker\":{\"colorbar\":{\"outlinewidth\":0,\"ticks\":\"\"}}}],\"scattermapbox\":[{\"type\":\"scattermapbox\",\"marker\":{\"colorbar\":{\"outlinewidth\":0,\"ticks\":\"\"}}}],\"scatterternary\":[{\"type\":\"scatterternary\",\"marker\":{\"colorbar\":{\"outlinewidth\":0,\"ticks\":\"\"}}}],\"scattercarpet\":[{\"type\":\"scattercarpet\",\"marker\":{\"colorbar\":{\"outlinewidth\":0,\"ticks\":\"\"}}}],\"carpet\":[{\"aaxis\":{\"endlinecolor\":\"#2a3f5f\",\"gridcolor\":\"white\",\"linecolor\":\"white\",\"minorgridcolor\":\"white\",\"startlinecolor\":\"#2a3f5f\"},\"baxis\":{\"endlinecolor\":\"#2a3f5f\",\"gridcolor\":\"white\",\"linecolor\":\"white\",\"minorgridcolor\":\"white\",\"startlinecolor\":\"#2a3f5f\"},\"type\":\"carpet\"}],\"table\":[{\"cells\":{\"fill\":{\"color\":\"#EBF0F8\"},\"line\":{\"color\":\"white\"}},\"header\":{\"fill\":{\"color\":\"#C8D4E3\"},\"line\":{\"color\":\"white\"}},\"type\":\"table\"}],\"barpolar\":[{\"marker\":{\"line\":{\"color\":\"#E5ECF6\",\"width\":0.5},\"pattern\":{\"fillmode\":\"overlay\",\"size\":10,\"solidity\":0.2}},\"type\":\"barpolar\"}],\"pie\":[{\"automargin\":true,\"type\":\"pie\"}]},\"layout\":{\"autotypenumbers\":\"strict\",\"colorway\":[\"#636efa\",\"#EF553B\",\"#00cc96\",\"#ab63fa\",\"#FFA15A\",\"#19d3f3\",\"#FF6692\",\"#B6E880\",\"#FF97FF\",\"#FECB52\"],\"font\":{\"color\":\"#2a3f5f\"},\"hovermode\":\"closest\",\"hoverlabel\":{\"align\":\"left\"},\"paper_bgcolor\":\"white\",\"plot_bgcolor\":\"#E5ECF6\",\"polar\":{\"bgcolor\":\"#E5ECF6\",\"angularaxis\":{\"gridcolor\":\"white\",\"linecolor\":\"white\",\"ticks\":\"\"},\"radialaxis\":{\"gridcolor\":\"white\",\"linecolor\":\"white\",\"ticks\":\"\"}},\"ternary\":{\"bgcolor\":\"#E5ECF6\",\"aaxis\":{\"gridcolor\":\"white\",\"linecolor\":\"white\",\"ticks\":\"\"},\"baxis\":{\"gridcolor\":\"white\",\"linecolor\":\"white\",\"ticks\":\"\"},\"caxis\":{\"gridcolor\":\"white\",\"linecolor\":\"white\",\"ticks\":\"\"}},\"coloraxis\":{\"colorbar\":{\"outlinewidth\":0,\"ticks\":\"\"}},\"colorscale\":{\"sequential\":[[0.0,\"#0d0887\"],[0.1111111111111111,\"#46039f\"],[0.2222222222222222,\"#7201a8\"],[0.3333333333333333,\"#9c179e\"],[0.4444444444444444,\"#bd3786\"],[0.5555555555555556,\"#d8576b\"],[0.6666666666666666,\"#ed7953\"],[0.7777777777777778,\"#fb9f3a\"],[0.8888888888888888,\"#fdca26\"],[1.0,\"#f0f921\"]],\"sequentialminus\":[[0.0,\"#0d0887\"],[0.1111111111111111,\"#46039f\"],[0.2222222222222222,\"#7201a8\"],[0.3333333333333333,\"#9c179e\"],[0.4444444444444444,\"#bd3786\"],[0.5555555555555556,\"#d8576b\"],[0.6666666666666666,\"#ed7953\"],[0.7777777777777778,\"#fb9f3a\"],[0.8888888888888888,\"#fdca26\"],[1.0,\"#f0f921\"]],\"diverging\":[[0,\"#8e0152\"],[0.1,\"#c51b7d\"],[0.2,\"#de77ae\"],[0.3,\"#f1b6da\"],[0.4,\"#fde0ef\"],[0.5,\"#f7f7f7\"],[0.6,\"#e6f5d0\"],[0.7,\"#b8e186\"],[0.8,\"#7fbc41\"],[0.9,\"#4d9221\"],[1,\"#276419\"]]},\"xaxis\":{\"gridcolor\":\"white\",\"linecolor\":\"white\",\"ticks\":\"\",\"title\":{\"standoff\":15},\"zerolinecolor\":\"white\",\"automargin\":true,\"zerolinewidth\":2},\"yaxis\":{\"gridcolor\":\"white\",\"linecolor\":\"white\",\"ticks\":\"\",\"title\":{\"standoff\":15},\"zerolinecolor\":\"white\",\"automargin\":true,\"zerolinewidth\":2},\"scene\":{\"xaxis\":{\"backgroundcolor\":\"#E5ECF6\",\"gridcolor\":\"white\",\"linecolor\":\"white\",\"showbackground\":true,\"ticks\":\"\",\"zerolinecolor\":\"white\",\"gridwidth\":2},\"yaxis\":{\"backgroundcolor\":\"#E5ECF6\",\"gridcolor\":\"white\",\"linecolor\":\"white\",\"showbackground\":true,\"ticks\":\"\",\"zerolinecolor\":\"white\",\"gridwidth\":2},\"zaxis\":{\"backgroundcolor\":\"#E5ECF6\",\"gridcolor\":\"white\",\"linecolor\":\"white\",\"showbackground\":true,\"ticks\":\"\",\"zerolinecolor\":\"white\",\"gridwidth\":2}},\"shapedefaults\":{\"line\":{\"color\":\"#2a3f5f\"}},\"annotationdefaults\":{\"arrowcolor\":\"#2a3f5f\",\"arrowhead\":0,\"arrowwidth\":1},\"geo\":{\"bgcolor\":\"white\",\"landcolor\":\"#E5ECF6\",\"subunitcolor\":\"white\",\"showland\":true,\"showlakes\":true,\"lakecolor\":\"white\"},\"title\":{\"x\":0.05},\"mapbox\":{\"style\":\"light\"}}},\"geo\":{\"domain\":{\"x\":[0.0,1.0],\"y\":[0.0,1.0]},\"center\":{},\"scope\":\"usa\"},\"coloraxis\":{\"colorbar\":{\"title\":{\"text\":\"(%) per State Population\"}},\"colorscale\":[[0.0,\"rgb(253, 253, 204)\"],[0.09090909090909091,\"rgb(206, 236, 179)\"],[0.18181818181818182,\"rgb(156, 219, 165)\"],[0.2727272727272727,\"rgb(111, 201, 163)\"],[0.36363636363636365,\"rgb(86, 177, 163)\"],[0.45454545454545453,\"rgb(76, 153, 160)\"],[0.5454545454545454,\"rgb(68, 130, 155)\"],[0.6363636363636364,\"rgb(62, 108, 150)\"],[0.7272727272727273,\"rgb(62, 82, 143)\"],[0.8181818181818182,\"rgb(64, 60, 115)\"],[0.9090909090909091,\"rgb(54, 43, 77)\"],[1.0,\"rgb(39, 26, 44)\"]]},\"legend\":{\"tracegroupgap\":0},\"title\":{\"text\":\"Percentage of Individuals Experiencing Homelessness by State\",\"font\":{\"family\":\"Roboto\",\"size\":20,\"color\":\"black\"},\"x\":0.5,\"xanchor\":\"center\",\"yanchor\":\"top\"},\"width\":1000,\"height\":800},                        {\"responsive\": true}                    ).then(function(){\n",
       "                            \n",
       "var gd = document.getElementById('349af3cc-a66d-4507-8ee1-7d70155b5480');\n",
       "var x = new MutationObserver(function (mutations, observer) {{\n",
       "        var display = window.getComputedStyle(gd).display;\n",
       "        if (!display || display === 'none') {{\n",
       "            console.log([gd, 'removed!']);\n",
       "            Plotly.purge(gd);\n",
       "            observer.disconnect();\n",
       "        }}\n",
       "}});\n",
       "\n",
       "// Listen for the removal of the full notebook cells\n",
       "var notebookContainer = gd.closest('#notebook-container');\n",
       "if (notebookContainer) {{\n",
       "    x.observe(notebookContainer, {childList: true});\n",
       "}}\n",
       "\n",
       "// Listen for the clearing of the current output cell\n",
       "var outputEl = gd.closest('.output');\n",
       "if (outputEl) {{\n",
       "    x.observe(outputEl, {childList: true});\n",
       "}}\n",
       "\n",
       "                        })                };                });            </script>        </div>"
      ]
     },
     "metadata": {},
     "output_type": "display_data"
    }
   ],
   "source": [
    "# Remove the percentage sign and convert to float\n",
    "new['% individuals experiencing homelessness'] = new['% individuals experiencing homelessness'].str.rstrip('%').astype(float)\n",
    "\n",
    "# Create choropleth graph:\n",
    "fig = px.choropleth(\n",
    "    new,\n",
    "    locations=\"State\",  # State abbreviations\n",
    "    locationmode=\"USA-states\",  # Use state abbreviations\n",
    "    color=\"% individuals experiencing homelessness\",  # Data to color by\n",
    "    color_continuous_scale=\"deep\", \n",
    "    scope=\"usa\",  # Focus on USA\n",
    "    title=\"Percentage of Individuals Experiencing Homelessness by State\",\n",
    "    labels={'% individuals experiencing homelessness': '(%) per State Population'}  # Rename the color bar title\n",
    ")\n",
    "\n",
    "# Edit the graph:\n",
    "fig.update_layout(\n",
    "    width=1000,  \n",
    "    height=800,\n",
    "    title={\n",
    "        'text': \"Percentage of Individuals Experiencing Homelessness by State\",  # Title text\n",
    "        'x': 0.5,  # Center the title \n",
    "        'xanchor': 'center',  # Anchor text to the center\n",
    "        'yanchor': 'top'  # Anchor text to the top\n",
    "    },\n",
    "    title_font=dict(\n",
    "        family=\"Roboto\",  # Font family\n",
    "        size=20,  # Font size\n",
    "        color=\"black\",  # Font color\n",
    "    )\n",
    ")\n",
    "\n",
    "# Add a line pointing to Washington, D.C.:\n",
    "fig.add_trace(\n",
    "    go.Scattergeo(\n",
    "        locationmode='USA-states',\n",
    "        lon=[-77.0369, -65], \n",
    "        lat=[38.9072, 38.9072],    \n",
    "        mode='lines+text',\n",
    "        line=dict(width=2, color='black'),\n",
    "        text=[\"\", \"DC: 0.72\"],  # Show value at the end of the line\n",
    "        textposition=\"top center\",\n",
    "        showlegend=False\n",
    "    )\n",
    ")\n",
    "\n",
    "fig.show()"
   ]
  },
  {
   "cell_type": "code",
   "execution_count": 299,
   "id": "fc1c91e4-40bf-4067-904b-c811c8f8bee1",
   "metadata": {},
   "outputs": [
    {
     "data": {
      "text/html": [
       "<div>\n",
       "<style scoped>\n",
       "    .dataframe tbody tr th:only-of-type {\n",
       "        vertical-align: middle;\n",
       "    }\n",
       "\n",
       "    .dataframe tbody tr th {\n",
       "        vertical-align: top;\n",
       "    }\n",
       "\n",
       "    .dataframe thead th {\n",
       "        text-align: right;\n",
       "    }\n",
       "</style>\n",
       "<table border=\"1\" class=\"dataframe\">\n",
       "  <thead>\n",
       "    <tr style=\"text-align: right;\">\n",
       "      <th></th>\n",
       "      <th>index</th>\n",
       "      <th>State</th>\n",
       "      <th>2023_pop</th>\n",
       "      <th>Homeless people per 10,000</th>\n",
       "      <th>Total Homeless</th>\n",
       "      <th>% individuals experiencing homelessness</th>\n",
       "    </tr>\n",
       "  </thead>\n",
       "  <tbody>\n",
       "    <tr>\n",
       "      <th>0</th>\n",
       "      <td>8</td>\n",
       "      <td>DC</td>\n",
       "      <td>678972</td>\n",
       "      <td>72</td>\n",
       "      <td>4889</td>\n",
       "      <td>0.72</td>\n",
       "    </tr>\n",
       "    <tr>\n",
       "      <th>1</th>\n",
       "      <td>32</td>\n",
       "      <td>NY</td>\n",
       "      <td>19571216</td>\n",
       "      <td>52</td>\n",
       "      <td>101770</td>\n",
       "      <td>0.52</td>\n",
       "    </tr>\n",
       "    <tr>\n",
       "      <th>2</th>\n",
       "      <td>45</td>\n",
       "      <td>VT</td>\n",
       "      <td>647464</td>\n",
       "      <td>50</td>\n",
       "      <td>3237</td>\n",
       "      <td>0.50</td>\n",
       "    </tr>\n",
       "    <tr>\n",
       "      <th>3</th>\n",
       "      <td>37</td>\n",
       "      <td>OR</td>\n",
       "      <td>4233358</td>\n",
       "      <td>47</td>\n",
       "      <td>19897</td>\n",
       "      <td>0.47</td>\n",
       "    </tr>\n",
       "    <tr>\n",
       "      <th>4</th>\n",
       "      <td>4</td>\n",
       "      <td>CA</td>\n",
       "      <td>38965193</td>\n",
       "      <td>46</td>\n",
       "      <td>179240</td>\n",
       "      <td>0.46</td>\n",
       "    </tr>\n",
       "  </tbody>\n",
       "</table>\n",
       "</div>"
      ],
      "text/plain": [
       "   index State  2023_pop  Homeless people per 10,000  Total Homeless  \\\n",
       "0      8    DC    678972                          72            4889   \n",
       "1     32    NY  19571216                          52          101770   \n",
       "2     45    VT    647464                          50            3237   \n",
       "3     37    OR   4233358                          47           19897   \n",
       "4      4    CA  38965193                          46          179240   \n",
       "\n",
       "   % individuals experiencing homelessness  \n",
       "0                                     0.72  \n",
       "1                                     0.52  \n",
       "2                                     0.50  \n",
       "3                                     0.47  \n",
       "4                                     0.46  "
      ]
     },
     "execution_count": 299,
     "metadata": {},
     "output_type": "execute_result"
    }
   ],
   "source": [
    "# Create dataframe of top five states with homelessness\n",
    "top_5_states = new.sort_values(by='% individuals experiencing homelessness', ascending=False).head(5).reset_index()\n",
    "\n",
    "# Show dataframe\n",
    "top_5_states"
   ]
  },
  {
   "cell_type": "markdown",
   "id": "51e97068-d563-42de-b3f8-5f8684d44af3",
   "metadata": {},
   "source": [
    "Create bar graph with top 5 states visualization "
   ]
  },
  {
   "cell_type": "code",
   "execution_count": 278,
   "id": "e0dbdde8-8c1f-40bf-b96e-f99bc5bf9e5c",
   "metadata": {},
   "outputs": [
    {
     "data": {
      "image/png": "[encoded data removed]",
      "text/plain": [
       "<Figure size 1200x600 with 1 Axes>"
      ]
     },
     "metadata": {},
     "output_type": "display_data"
    }
   ],
   "source": [
    "# Remove the percentage sign and convert to float\n",
    "# top_5_states['% individuals experiencing homelessness'] = top_5_states['% individuals experiencing homelessness'].replace('%', '', regex=True).astype(float)\n",
    "\n",
    "# Sort states:\n",
    "d_sorted = top_5_states.sort_values(by='% individuals experiencing homelessness', ascending=False)\n",
    "\n",
    "# Set plot size:\n",
    "plt.figure(figsize=(12,6))\n",
    "\n",
    "# Create plot:\n",
    "ax = sns.barplot(x='State', y='% individuals experiencing homelessness', palette=\"crest\", data=d_sorted)\n",
    "\n",
    "# Title\n",
    "plt.title('Top 5 States with Highest Percentage of Homelessness', fontsize=16, fontweight='bold')\n",
    "\n",
    "# Axis labels\n",
    "plt.xlabel('States', fontweight = 'bold')\n",
    "plt.ylabel('Percentage', fontweight = 'bold')\n",
    "\n",
    "# Add values on top of each bar:\n",
    "for bar in ax.patches:  \n",
    "    yval = bar.get_height() \n",
    "    ax.text(\n",
    "        bar.get_x() + bar.get_width() / 2, \n",
    "        yval - 0.00,  \n",
    "        f'{yval:.2f}%',\n",
    "        ha='center',  \n",
    "        va='bottom',  \n",
    "        fontsize=13,  \n",
    "        color=\"black\"  \n",
    "    )\n",
    "    \n",
    "# Show the plot\n",
    "plt.show()"
   ]
  },
  {
   "cell_type": "code",
   "execution_count": 279,
   "id": "e11372fa-90b0-423c-ba2a-72c48cfe498f",
   "metadata": {},
   "outputs": [
    {
     "data": {
      "text/html": [
       "<div>\n",
       "<style scoped>\n",
       "    .dataframe tbody tr th:only-of-type {\n",
       "        vertical-align: middle;\n",
       "    }\n",
       "\n",
       "    .dataframe tbody tr th {\n",
       "        vertical-align: top;\n",
       "    }\n",
       "\n",
       "    .dataframe thead th {\n",
       "        text-align: right;\n",
       "    }\n",
       "</style>\n",
       "<table border=\"1\" class=\"dataframe\">\n",
       "  <thead>\n",
       "    <tr style=\"text-align: right;\">\n",
       "      <th></th>\n",
       "      <th>State</th>\n",
       "      <th>2018</th>\n",
       "      <th>2023</th>\n",
       "      <th>2023-2018</th>\n",
       "      <th>% change in homelessness 2018-2023</th>\n",
       "    </tr>\n",
       "  </thead>\n",
       "  <tbody>\n",
       "    <tr>\n",
       "      <th>0</th>\n",
       "      <td>Vermont</td>\n",
       "      <td>20.662546</td>\n",
       "      <td>50.890860</td>\n",
       "      <td>30.228314</td>\n",
       "      <td>146.295208</td>\n",
       "    </tr>\n",
       "    <tr>\n",
       "      <th>5</th>\n",
       "      <td>New Hampshire</td>\n",
       "      <td>10.700602</td>\n",
       "      <td>17.410171</td>\n",
       "      <td>6.709569</td>\n",
       "      <td>62.702731</td>\n",
       "    </tr>\n",
       "    <tr>\n",
       "      <th>3</th>\n",
       "      <td>Maine</td>\n",
       "      <td>18.774396</td>\n",
       "      <td>30.507508</td>\n",
       "      <td>11.733112</td>\n",
       "      <td>62.495282</td>\n",
       "    </tr>\n",
       "    <tr>\n",
       "      <th>7</th>\n",
       "      <td>Rhode Island</td>\n",
       "      <td>10.393283</td>\n",
       "      <td>16.515171</td>\n",
       "      <td>6.121888</td>\n",
       "      <td>58.902347</td>\n",
       "    </tr>\n",
       "    <tr>\n",
       "      <th>9</th>\n",
       "      <td>New Mexico</td>\n",
       "      <td>12.183857</td>\n",
       "      <td>18.170889</td>\n",
       "      <td>5.987031</td>\n",
       "      <td>49.139047</td>\n",
       "    </tr>\n",
       "  </tbody>\n",
       "</table>\n",
       "</div>"
      ],
      "text/plain": [
       "           State       2018       2023  2023-2018  \\\n",
       "0        Vermont  20.662546  50.890860  30.228314   \n",
       "5  New Hampshire  10.700602  17.410171   6.709569   \n",
       "3          Maine  18.774396  30.507508  11.733112   \n",
       "7   Rhode Island  10.393283  16.515171   6.121888   \n",
       "9     New Mexico  12.183857  18.170889   5.987031   \n",
       "\n",
       "   % change in homelessness 2018-2023  \n",
       "0                          146.295208  \n",
       "5                           62.702731  \n",
       "3                           62.495282  \n",
       "7                           58.902347  \n",
       "9                           49.139047  "
      ]
     },
     "execution_count": 279,
     "metadata": {},
     "output_type": "execute_result"
    }
   ],
   "source": [
    "# Import dataset that shows change of percentages from 2018-2023\n",
    "change_df = pd.read_csv('/Users/lizzieriordan/Desktop/Final Project/increase of homeless per state - increase of homeless per state.csv')\n",
    "\n",
    "# Show data\n",
    "change_df.sort_values(by='% change in homelessness 2018-2023', ascending=False).head(5)"
   ]
  },
  {
   "cell_type": "code",
   "execution_count": 280,
   "id": "e053bb6b-93a9-4b6b-9444-d69e72605489",
   "metadata": {},
   "outputs": [
    {
     "data": {
      "text/html": [
       "<div>\n",
       "<style scoped>\n",
       "    .dataframe tbody tr th:only-of-type {\n",
       "        vertical-align: middle;\n",
       "    }\n",
       "\n",
       "    .dataframe tbody tr th {\n",
       "        vertical-align: top;\n",
       "    }\n",
       "\n",
       "    .dataframe thead th {\n",
       "        text-align: right;\n",
       "    }\n",
       "</style>\n",
       "<table border=\"1\" class=\"dataframe\">\n",
       "  <thead>\n",
       "    <tr style=\"text-align: right;\">\n",
       "      <th></th>\n",
       "      <th>State</th>\n",
       "      <th>2018</th>\n",
       "      <th>2023</th>\n",
       "      <th>2023-2018</th>\n",
       "      <th>% change in homelessness 2018-2023</th>\n",
       "    </tr>\n",
       "  </thead>\n",
       "  <tbody>\n",
       "    <tr>\n",
       "      <th>0</th>\n",
       "      <td>Vermont</td>\n",
       "      <td>20.662546</td>\n",
       "      <td>50.890860</td>\n",
       "      <td>30.228314</td>\n",
       "      <td>146.295208</td>\n",
       "    </tr>\n",
       "    <tr>\n",
       "      <th>1</th>\n",
       "      <td>California</td>\n",
       "      <td>32.956481</td>\n",
       "      <td>46.554113</td>\n",
       "      <td>13.597632</td>\n",
       "      <td>41.259357</td>\n",
       "    </tr>\n",
       "    <tr>\n",
       "      <th>2</th>\n",
       "      <td>Oregon</td>\n",
       "      <td>34.602291</td>\n",
       "      <td>47.579250</td>\n",
       "      <td>12.976959</td>\n",
       "      <td>37.503179</td>\n",
       "    </tr>\n",
       "    <tr>\n",
       "      <th>10</th>\n",
       "      <td>New York</td>\n",
       "      <td>47.020333</td>\n",
       "      <td>52.730500</td>\n",
       "      <td>5.710167</td>\n",
       "      <td>12.144037</td>\n",
       "    </tr>\n",
       "    <tr>\n",
       "      <th>24</th>\n",
       "      <td>West Virginia</td>\n",
       "      <td>6.882793</td>\n",
       "      <td>7.999679</td>\n",
       "      <td>1.116886</td>\n",
       "      <td>16.227228</td>\n",
       "    </tr>\n",
       "    <tr>\n",
       "      <th>32</th>\n",
       "      <td>Louisiana</td>\n",
       "      <td>6.558115</td>\n",
       "      <td>6.928671</td>\n",
       "      <td>0.370555</td>\n",
       "      <td>5.650335</td>\n",
       "    </tr>\n",
       "    <tr>\n",
       "      <th>38</th>\n",
       "      <td>Wisconsin</td>\n",
       "      <td>8.446773</td>\n",
       "      <td>8.223713</td>\n",
       "      <td>-0.223060</td>\n",
       "      <td>-2.640769</td>\n",
       "    </tr>\n",
       "    <tr>\n",
       "      <th>41</th>\n",
       "      <td>Alabama</td>\n",
       "      <td>7.020158</td>\n",
       "      <td>6.467692</td>\n",
       "      <td>-0.552465</td>\n",
       "      <td>-7.869698</td>\n",
       "    </tr>\n",
       "    <tr>\n",
       "      <th>44</th>\n",
       "      <td>Mississippi</td>\n",
       "      <td>4.532534</td>\n",
       "      <td>3.340488</td>\n",
       "      <td>-1.192046</td>\n",
       "      <td>-26.299761</td>\n",
       "    </tr>\n",
       "  </tbody>\n",
       "</table>\n",
       "</div>"
      ],
      "text/plain": [
       "            State       2018       2023  2023-2018  \\\n",
       "0         Vermont  20.662546  50.890860  30.228314   \n",
       "1      California  32.956481  46.554113  13.597632   \n",
       "2          Oregon  34.602291  47.579250  12.976959   \n",
       "10       New York  47.020333  52.730500   5.710167   \n",
       "24  West Virginia   6.882793   7.999679   1.116886   \n",
       "32      Louisiana   6.558115   6.928671   0.370555   \n",
       "38      Wisconsin   8.446773   8.223713  -0.223060   \n",
       "41        Alabama   7.020158   6.467692  -0.552465   \n",
       "44    Mississippi   4.532534   3.340488  -1.192046   \n",
       "\n",
       "    % change in homelessness 2018-2023  \n",
       "0                           146.295208  \n",
       "1                            41.259357  \n",
       "2                            37.503179  \n",
       "10                           12.144037  \n",
       "24                           16.227228  \n",
       "32                            5.650335  \n",
       "38                           -2.640769  \n",
       "41                           -7.869698  \n",
       "44                          -26.299761  "
      ]
     },
     "execution_count": 280,
     "metadata": {},
     "output_type": "execute_result"
    }
   ],
   "source": [
    "# Filter top 5 and lower 5 states based on percentages\n",
    "states_of_interest = ['California', 'Vermont', 'Oregon', 'New York', 'Mississippi', 'West Virginia', 'Louisiana', 'Alabama', 'Wisconsin']\n",
    "\n",
    "# Filter the Dataframe to only show rows with these specific states\n",
    "filtered_df = change_df[change_df['State'].isin(states_of_interest)]\n",
    "\n",
    "# Show filtered data\n",
    "filtered_df"
   ]
  },
  {
   "cell_type": "markdown",
   "id": "12e874a0-fe5b-41ec-933c-aecf9dc45031",
   "metadata": {},
   "source": [
    "Create bar graph visualizing change in percentages over past 5 years"
   ]
  },
  {
   "cell_type": "code",
   "execution_count": 281,
   "id": "796503e3-4c3b-41b8-af53-b335d7799e70",
   "metadata": {},
   "outputs": [
    {
     "data": {
      "image/png": "[encoded data removed]",
      "text/plain": [
       "<Figure size 1200x800 with 1 Axes>"
      ]
     },
     "metadata": {},
     "output_type": "display_data"
    }
   ],
   "source": [
    "# Set plot size:\n",
    "fig, ax = plt.subplots(figsize=(12, 8)) \n",
    "\n",
    "# Create bar positions and set width:\n",
    "y = np.arange(len(filtered_df['State']))\n",
    "bar_width = 0.35\n",
    "\n",
    "# Create the bars (plot 2018 first, followed by 2023)\n",
    "bars1 = ax.barh(y + bar_width / 2, filtered_df['2018'], bar_width, label='2018', color='lightblue')\n",
    "bars2 = ax.barh(y - bar_width / 2, filtered_df['2023'], bar_width, label='2023', color='darkslategrey')\n",
    "\n",
    "# Add the legend and set the correct order:\n",
    "ax.legend(['2018', '2023'], fontsize=16)\n",
    "\n",
    "# Add percentage of change to the ends of bars:\n",
    "for i, change in enumerate(filtered_df['% change in homelessness 2018-2023']):\n",
    "    bar_2018 = bars2[i] \n",
    "    bar_2023 = bars1[i]  \n",
    "    \n",
    "    # Get the right-most end position of the longest bar\n",
    "    max_bar_end = max(bar_2018.get_width(), bar_2023.get_width()) \n",
    "    \n",
    "    # Add the annotation to the right of the longest bar\n",
    "    ax.text(\n",
    "        max_bar_end + .5,  \n",
    "        y[i], \n",
    "        f\"{change:.2f}%\",  \n",
    "        ha='left',  \n",
    "        va='center', \n",
    "        fontsize=12, \n",
    "        color='black'\n",
    "    )\n",
    "\n",
    "# Expand right margin\n",
    "ax.set_xlim(0, filtered_df['2023'].max() + 10) \n",
    "\n",
    "# Set the border color to light grey\n",
    "for spine in ax.spines.values():\n",
    "    spine.set_color('lightgrey')\n",
    "\n",
    "# Add labels and title with larger font sizes\n",
    "ax.set_yticks(y)\n",
    "ax.set_yticklabels(filtered_df['State'], fontsize=14) \n",
    "ax.set_xlabel('Number of homeless people per 10,000 residents', fontsize=13) \n",
    "ax.set_title('Percentage of Change in Homelessness: 2018 vs 2023', fontsize=17, fontweight='bold', family='arial') \n",
    "\n",
    "# Show the plot\n",
    "plt.show()"
   ]
  },
  {
   "cell_type": "markdown",
   "id": "179fced3-83f8-47ea-89e4-a3fed0037028",
   "metadata": {},
   "source": [
    "Show breakdown by race/ethnicity"
   ]
  },
  {
   "cell_type": "code",
   "execution_count": 282,
   "id": "5a37bcf4-6fc9-42e4-9e02-f042425960a6",
   "metadata": {},
   "outputs": [
    {
     "data": {
      "text/html": [
       "<div>\n",
       "<style scoped>\n",
       "    .dataframe tbody tr th:only-of-type {\n",
       "        vertical-align: middle;\n",
       "    }\n",
       "\n",
       "    .dataframe tbody tr th {\n",
       "        vertical-align: top;\n",
       "    }\n",
       "\n",
       "    .dataframe thead th {\n",
       "        text-align: right;\n",
       "    }\n",
       "</style>\n",
       "<table border=\"1\" class=\"dataframe\">\n",
       "  <thead>\n",
       "    <tr style=\"text-align: right;\">\n",
       "      <th></th>\n",
       "      <th>index</th>\n",
       "      <th>Race/Ethnicity</th>\n",
       "      <th>Category</th>\n",
       "      <th>Homeless per 10,000</th>\n",
       "    </tr>\n",
       "  </thead>\n",
       "  <tbody>\n",
       "    <tr>\n",
       "      <th>0</th>\n",
       "      <td>4</td>\n",
       "      <td>Black</td>\n",
       "      <td>Race</td>\n",
       "      <td>53.661978</td>\n",
       "    </tr>\n",
       "    <tr>\n",
       "      <th>1</th>\n",
       "      <td>6</td>\n",
       "      <td>Indigenous</td>\n",
       "      <td>Race</td>\n",
       "      <td>52.749351</td>\n",
       "    </tr>\n",
       "    <tr>\n",
       "      <th>2</th>\n",
       "      <td>8</td>\n",
       "      <td>Multiple Races</td>\n",
       "      <td>Race</td>\n",
       "      <td>38.948799</td>\n",
       "    </tr>\n",
       "    <tr>\n",
       "      <th>3</th>\n",
       "      <td>2</td>\n",
       "      <td>Hispanic</td>\n",
       "      <td>Ethnicity</td>\n",
       "      <td>28.168985</td>\n",
       "    </tr>\n",
       "    <tr>\n",
       "      <th>4</th>\n",
       "      <td>3</td>\n",
       "      <td>White</td>\n",
       "      <td>Race</td>\n",
       "      <td>12.911415</td>\n",
       "    </tr>\n",
       "    <tr>\n",
       "      <th>5</th>\n",
       "      <td>5</td>\n",
       "      <td>Asian</td>\n",
       "      <td>Race</td>\n",
       "      <td>5.523543</td>\n",
       "    </tr>\n",
       "  </tbody>\n",
       "</table>\n",
       "</div>"
      ],
      "text/plain": [
       "   index  Race/Ethnicity   Category  Homeless per 10,000\n",
       "0      4           Black       Race            53.661978\n",
       "1      6      Indigenous       Race            52.749351\n",
       "2      8  Multiple Races       Race            38.948799\n",
       "3      2        Hispanic  Ethnicity            28.168985\n",
       "4      3           White       Race            12.911415\n",
       "5      5           Asian       Race             5.523543"
      ]
     },
     "execution_count": 282,
     "metadata": {},
     "output_type": "execute_result"
    }
   ],
   "source": [
    "# Import dataset with race/ethnicity\n",
    "race = pd.read_csv('/Users/lizzieriordan/Desktop/Final Project/homeless_race.csv')\n",
    "\n",
    "# Drop columns not in use\n",
    "race.drop(race[race['Race/Ethnicity'] == 'Non-Hispanic'].index, axis=0, inplace=True)\n",
    "race.drop(race[race['Race/Ethnicity'] == 'General Population'].index, axis=0, inplace=True)\n",
    "race.drop(race[race['Race/Ethnicity'] == 'Native Hawaiian or Other Pacific Islander'].index, axis=0, inplace=True)\n",
    "\n",
    "# Change row name \n",
    "race.loc[6, 'Race/Ethnicity'] = 'Indigenous'\n",
    "\n",
    "# Sort and show data\n",
    "race.sort_values(by='Homeless per 10,000', ascending = False).reset_index()"
   ]
  },
  {
   "cell_type": "markdown",
   "id": "7e0b9bef-3726-4eb2-82bc-cabce08bcd40",
   "metadata": {},
   "source": [
    "Create bubble map to show homelessness percentages of race/ethnicity "
   ]
  },
  {
   "cell_type": "code",
   "execution_count": 283,
   "id": "1221a79b-b0ac-4171-946b-99f177aa6438",
   "metadata": {},
   "outputs": [
    {
     "data": {
      "image/png": "[encoded data removed]",
      "text/plain": [
       "<Figure size 640x480 with 1 Axes>"
      ]
     },
     "metadata": {},
     "output_type": "display_data"
    }
   ],
   "source": [
    "# Create dataframe based off of race dataset with custom colors:\n",
    "data = {\n",
    "    'Race/Ethnicity': ['Black\\n53.66', 'Indigenous\\n52.74', 'Multiple Races\\n38.94', 'Hispanic\\n28.16', 'White\\n12.91', 'Asian\\n5.52'],\n",
    "    'Unhoused per 10,000': [54, 53, 39, 28, 13, 6],\n",
    "    'color': ['#639877', '#639892', '#638498', '#636a98', '#776398', '#926398']\n",
    "}\n",
    "\n",
    "# Copied code\n",
    "class BubbleChart:\n",
    "    def __init__(self, area, bubble_spacing=0):\n",
    "        \"\"\"\n",
    "        Setup for bubble collapse.\n",
    "\n",
    "        Parameters\n",
    "        ----------\n",
    "        area : array-like\n",
    "            Area of the bubbles.\n",
    "        bubble_spacing : float, default: 0\n",
    "            Minimal spacing between bubbles after collapsing.\n",
    "\n",
    "        Notes\n",
    "        -----\n",
    "        If \"area\" is sorted, the results might look weird.\n",
    "        \"\"\"\n",
    "        area = np.asarray(area)\n",
    "        r = np.sqrt(area / np.pi)\n",
    "\n",
    "        self.bubble_spacing = bubble_spacing\n",
    "        self.bubbles = np.ones((len(area), 4))\n",
    "        self.bubbles[:, 2] = r\n",
    "        self.bubbles[:, 3] = area\n",
    "        self.maxstep = 2 * self.bubbles[:, 2].max() + self.bubble_spacing\n",
    "        self.step_dist = self.maxstep / 2\n",
    "\n",
    "        # calculate initial grid layout for bubbles\n",
    "        length = np.ceil(np.sqrt(len(self.bubbles)))\n",
    "        grid = np.arange(length) * self.maxstep\n",
    "        gx, gy = np.meshgrid(grid, grid)\n",
    "        self.bubbles[:, 0] = gx.flatten()[:len(self.bubbles)]\n",
    "        self.bubbles[:, 1] = gy.flatten()[:len(self.bubbles)]\n",
    "\n",
    "        self.com = self.center_of_mass()\n",
    "\n",
    "    def center_of_mass(self):\n",
    "        return np.average(\n",
    "            self.bubbles[:, :2], axis=0, weights=self.bubbles[:, 3]\n",
    "        )\n",
    "\n",
    "    def center_distance(self, bubble, bubbles):\n",
    "        return np.hypot(bubble[0] - bubbles[:, 0],\n",
    "                        bubble[1] - bubbles[:, 1])\n",
    "\n",
    "    def outline_distance(self, bubble, bubbles):\n",
    "        center_distance = self.center_distance(bubble, bubbles)\n",
    "        return center_distance - bubble[2] - \\\n",
    "            bubbles[:, 2] - self.bubble_spacing\n",
    "\n",
    "    def check_collisions(self, bubble, bubbles):\n",
    "        distance = self.outline_distance(bubble, bubbles)\n",
    "        return len(distance[distance < 0])\n",
    "\n",
    "    def collides_with(self, bubble, bubbles):\n",
    "        distance = self.outline_distance(bubble, bubbles)\n",
    "        return np.argmin(distance, keepdims=True)\n",
    "\n",
    "    def collapse(self, n_iterations=50):\n",
    "        \"\"\"\n",
    "        Move bubbles to the center of mass.\n",
    "\n",
    "        Parameters\n",
    "        ----------\n",
    "        n_iterations : int, default: 50\n",
    "            Number of moves to perform.\n",
    "        \"\"\"\n",
    "        for _i in range(n_iterations):\n",
    "            moves = 0\n",
    "            for i in range(len(self.bubbles)):\n",
    "                rest_bub = np.delete(self.bubbles, i, 0)\n",
    "                # try to move directly towards the center of mass\n",
    "                # direction vector from bubble to the center of mass\n",
    "                dir_vec = self.com - self.bubbles[i, :2]\n",
    "\n",
    "                # shorten direction vector to have length of 1\n",
    "                dir_vec = dir_vec / np.sqrt(dir_vec.dot(dir_vec))\n",
    "\n",
    "                # calculate new bubble position\n",
    "                new_point = self.bubbles[i, :2] + dir_vec * self.step_dist\n",
    "                new_bubble = np.append(new_point, self.bubbles[i, 2:4])\n",
    "\n",
    "                # check whether new bubble collides with other bubbles\n",
    "                if not self.check_collisions(new_bubble, rest_bub):\n",
    "                    self.bubbles[i, :] = new_bubble\n",
    "                    self.com = self.center_of_mass()\n",
    "                    moves += 1\n",
    "                else:\n",
    "                    # try to move around a bubble that you collide with\n",
    "                    # find colliding bubble\n",
    "                    for colliding in self.collides_with(new_bubble, rest_bub):\n",
    "                        # calculate direction vector\n",
    "                        dir_vec = rest_bub[colliding, :2] - self.bubbles[i, :2]\n",
    "                        dir_vec = dir_vec / np.sqrt(dir_vec.dot(dir_vec))\n",
    "                        # calculate orthogonal vector\n",
    "                        orth = np.array([dir_vec[1], -dir_vec[0]])\n",
    "                        # test which direction to go\n",
    "                        new_point1 = (self.bubbles[i, :2] + orth *\n",
    "                                      self.step_dist)\n",
    "                        new_point2 = (self.bubbles[i, :2] - orth *\n",
    "                                      self.step_dist)\n",
    "                        dist1 = self.center_distance(\n",
    "                            self.com, np.array([new_point1]))\n",
    "                        dist2 = self.center_distance(\n",
    "                            self.com, np.array([new_point2]))\n",
    "                        new_point = new_point1 if dist1 < dist2 else new_point2\n",
    "                        new_bubble = np.append(new_point, self.bubbles[i, 2:4])\n",
    "                        if not self.check_collisions(new_bubble, rest_bub):\n",
    "                            self.bubbles[i, :] = new_bubble\n",
    "                            self.com = self.center_of_mass()\n",
    "\n",
    "            if moves / len(self.bubbles) < 0.1:\n",
    "                self.step_dist = self.step_dist / 2\n",
    "\n",
    "    def plot(self, ax, labels, colors):\n",
    "        \"\"\"\n",
    "        Draw the bubble plot.\n",
    "\n",
    "        Parameters\n",
    "        ----------\n",
    "        ax : matplotlib.axes.Axes\n",
    "        labels : list\n",
    "            Labels of the bubbles.\n",
    "        colors : list\n",
    "            Colors of the bubbles.\n",
    "        \"\"\"\n",
    "        for i in range(len(self.bubbles)):\n",
    "            circ = plt.Circle(\n",
    "                self.bubbles[i, :2], self.bubbles[i, 2], color=colors[i])\n",
    "            ax.add_patch(circ)\n",
    "            ax.text(*self.bubbles[i, :2], labels[i],\n",
    "                    horizontalalignment='center', verticalalignment='center', color='white', fontname='arial')\n",
    "\n",
    "\n",
    "bubble_chart = BubbleChart(area=data['Unhoused per 10,000'],\n",
    "                           bubble_spacing=0.1)\n",
    "\n",
    "bubble_chart.collapse()\n",
    "\n",
    "fig, ax = plt.subplots(subplot_kw=dict(aspect=\"equal\"))\n",
    "bubble_chart.plot(\n",
    "    ax, data['Race/Ethnicity'], data['color'])\n",
    "ax.axis(\"off\")\n",
    "ax.relim()\n",
    "ax.autoscale_view()\n",
    "ax.set_title('Unhoused per 10,000 by Race/Ethnicity', fontweight='bold')\n",
    "\n",
    "plt.show()"
   ]
  },
  {
   "cell_type": "markdown",
   "id": "cd2a854b-e238-441a-ac1f-bd04391080ec",
   "metadata": {},
   "source": [
    "Find out what minimum wage is in these top 5 states:"
   ]
  },
  {
   "cell_type": "code",
   "execution_count": 73,
   "id": "ec22a554-3e7f-40c5-a14e-8378e78df691",
   "metadata": {},
   "outputs": [],
   "source": [
    "# Create dataset based off of public data collected for top 5 states\n",
    "data2 = {\n",
    "    \"State\": [\"Washington DC\", \"New York\", \"Vermont\", \"California\", \"Oregon\"],\n",
    "    \"MinimumWage\": [17.50, 15.00, 13.67, 16.00, 14.70],  \n",
    "    \"SSTax\": [7.65, 7.65, 7.65, 7.65, 7.65], #percentage of income that is taxed for Medicair and SS - Federal\n",
    "    \"IncomeTax\":[10, 9.5, 7, 8, 12.5], # income tax percentage based on minimum wage amounts. includes federal and state tax\n",
    "}\n",
    "\n",
    "# Create dataframe \n",
    "dataframe = pd.DataFrame(data2)"
   ]
  },
  {
   "cell_type": "markdown",
   "id": "4ca8d084-8a05-4d86-a1fc-62c02c6f83f4",
   "metadata": {},
   "source": [
    "Equation to create a column that shows net income after taxes:"
   ]
  },
  {
   "cell_type": "code",
   "execution_count": 75,
   "id": "dd01b25d-4f7b-4744-b870-a9646fce085f",
   "metadata": {},
   "outputs": [
    {
     "data": {
      "text/html": [
       "<div>\n",
       "<style scoped>\n",
       "    .dataframe tbody tr th:only-of-type {\n",
       "        vertical-align: middle;\n",
       "    }\n",
       "\n",
       "    .dataframe tbody tr th {\n",
       "        vertical-align: top;\n",
       "    }\n",
       "\n",
       "    .dataframe thead th {\n",
       "        text-align: right;\n",
       "    }\n",
       "</style>\n",
       "<table border=\"1\" class=\"dataframe\">\n",
       "  <thead>\n",
       "    <tr style=\"text-align: right;\">\n",
       "      <th></th>\n",
       "      <th>State</th>\n",
       "      <th>MinimumWage</th>\n",
       "      <th>SSTax</th>\n",
       "      <th>IncomeTax</th>\n",
       "      <th>GrossIncome</th>\n",
       "      <th>NetIncome</th>\n",
       "      <th>AvgRent</th>\n",
       "      <th>IncRentPercentage</th>\n",
       "    </tr>\n",
       "  </thead>\n",
       "  <tbody>\n",
       "    <tr>\n",
       "      <th>0</th>\n",
       "      <td>Washington DC</td>\n",
       "      <td>17.50</td>\n",
       "      <td>7.65</td>\n",
       "      <td>10.0</td>\n",
       "      <td>36400.0</td>\n",
       "      <td>29975.4000</td>\n",
       "      <td>2000</td>\n",
       "      <td>80.065654</td>\n",
       "    </tr>\n",
       "    <tr>\n",
       "      <th>1</th>\n",
       "      <td>New York</td>\n",
       "      <td>15.00</td>\n",
       "      <td>7.65</td>\n",
       "      <td>9.5</td>\n",
       "      <td>31200.0</td>\n",
       "      <td>25849.2000</td>\n",
       "      <td>2100</td>\n",
       "      <td>97.488510</td>\n",
       "    </tr>\n",
       "    <tr>\n",
       "      <th>2</th>\n",
       "      <td>Vermont</td>\n",
       "      <td>13.67</td>\n",
       "      <td>7.65</td>\n",
       "      <td>7.0</td>\n",
       "      <td>28433.6</td>\n",
       "      <td>24268.0776</td>\n",
       "      <td>1500</td>\n",
       "      <td>74.171512</td>\n",
       "    </tr>\n",
       "    <tr>\n",
       "      <th>3</th>\n",
       "      <td>California</td>\n",
       "      <td>16.00</td>\n",
       "      <td>7.65</td>\n",
       "      <td>8.0</td>\n",
       "      <td>33280.0</td>\n",
       "      <td>28071.6800</td>\n",
       "      <td>1700</td>\n",
       "      <td>72.671105</td>\n",
       "    </tr>\n",
       "    <tr>\n",
       "      <th>4</th>\n",
       "      <td>Oregon</td>\n",
       "      <td>14.70</td>\n",
       "      <td>7.65</td>\n",
       "      <td>12.5</td>\n",
       "      <td>30576.0</td>\n",
       "      <td>24414.9360</td>\n",
       "      <td>1500</td>\n",
       "      <td>73.725362</td>\n",
       "    </tr>\n",
       "  </tbody>\n",
       "</table>\n",
       "</div>"
      ],
      "text/plain": [
       "           State  MinimumWage  SSTax  IncomeTax  GrossIncome   NetIncome  \\\n",
       "0  Washington DC        17.50   7.65       10.0      36400.0  29975.4000   \n",
       "1       New York        15.00   7.65        9.5      31200.0  25849.2000   \n",
       "2        Vermont        13.67   7.65        7.0      28433.6  24268.0776   \n",
       "3     California        16.00   7.65        8.0      33280.0  28071.6800   \n",
       "4         Oregon        14.70   7.65       12.5      30576.0  24414.9360   \n",
       "\n",
       "   AvgRent  IncRentPercentage  \n",
       "0     2000          80.065654  \n",
       "1     2100          97.488510  \n",
       "2     1500          74.171512  \n",
       "3     1700          72.671105  \n",
       "4     1500          73.725362  "
      ]
     },
     "execution_count": 75,
     "metadata": {},
     "output_type": "execute_result"
    }
   ],
   "source": [
    "# Calculate Gross Income (40 hours/week, 52 weeks/year)\n",
    "dataframe[\"GrossIncome\"] = dataframe[\"MinimumWage\"] * 40 * 52\n",
    "\n",
    "# Calculate Net Income\n",
    "dataframe[\"NetIncome\"] = dataframe[\"GrossIncome\"] * (1 - (dataframe[\"SSTax\"] + dataframe[\"IncomeTax\"]) / 100)\n",
    "\n",
    "# Create new column showing average rent for one bedroom per state in 2024 (lower end):\n",
    "dataframe[\"AvgRent\"] = [2000, 2100, 1500, 1700, 1500]\n",
    "\n",
    "# Create column that shows percentage of income that would be spent on average rent if making minimum wage:\n",
    "dataframe[\"IncRentPercentage\"] = (dataframe[\"AvgRent\"] * 12 / dataframe[\"NetIncome\"]) * 100\n",
    "\n",
    "# Show data\n",
    "dataframe"
   ]
  },
  {
   "cell_type": "markdown",
   "id": "49862783-611b-46c7-973c-f928500abd53",
   "metadata": {},
   "source": [
    "Repeat process for lower 5 states"
   ]
  },
  {
   "cell_type": "code",
   "execution_count": 71,
   "id": "e383a936-faee-4059-bfdf-93655c51feb2",
   "metadata": {},
   "outputs": [
    {
     "data": {
      "text/html": [
       "<div>\n",
       "<style scoped>\n",
       "    .dataframe tbody tr th:only-of-type {\n",
       "        vertical-align: middle;\n",
       "    }\n",
       "\n",
       "    .dataframe tbody tr th {\n",
       "        vertical-align: top;\n",
       "    }\n",
       "\n",
       "    .dataframe thead th {\n",
       "        text-align: right;\n",
       "    }\n",
       "</style>\n",
       "<table border=\"1\" class=\"dataframe\">\n",
       "  <thead>\n",
       "    <tr style=\"text-align: right;\">\n",
       "      <th></th>\n",
       "      <th>State</th>\n",
       "      <th>MinimumWage</th>\n",
       "      <th>SSTax</th>\n",
       "      <th>IncomeTax</th>\n",
       "      <th>GrossIncome</th>\n",
       "      <th>NetIncome</th>\n",
       "      <th>AvgRent</th>\n",
       "      <th>IncRentPercentage</th>\n",
       "    </tr>\n",
       "  </thead>\n",
       "  <tbody>\n",
       "    <tr>\n",
       "      <th>0</th>\n",
       "      <td>Mississippi</td>\n",
       "      <td>7.25</td>\n",
       "      <td>7.65</td>\n",
       "      <td>5.50</td>\n",
       "      <td>15080.0</td>\n",
       "      <td>13096.98</td>\n",
       "      <td>600</td>\n",
       "      <td>54.974506</td>\n",
       "    </tr>\n",
       "    <tr>\n",
       "      <th>1</th>\n",
       "      <td>Alabama</td>\n",
       "      <td>7.25</td>\n",
       "      <td>7.65</td>\n",
       "      <td>4.00</td>\n",
       "      <td>15080.0</td>\n",
       "      <td>13323.18</td>\n",
       "      <td>500</td>\n",
       "      <td>45.034294</td>\n",
       "    </tr>\n",
       "    <tr>\n",
       "      <th>2</th>\n",
       "      <td>Louisiana</td>\n",
       "      <td>7.25</td>\n",
       "      <td>7.65</td>\n",
       "      <td>2.00</td>\n",
       "      <td>15080.0</td>\n",
       "      <td>13624.78</td>\n",
       "      <td>700</td>\n",
       "      <td>61.652372</td>\n",
       "    </tr>\n",
       "    <tr>\n",
       "      <th>3</th>\n",
       "      <td>Wisconsin</td>\n",
       "      <td>7.25</td>\n",
       "      <td>7.65</td>\n",
       "      <td>1.75</td>\n",
       "      <td>15080.0</td>\n",
       "      <td>13662.48</td>\n",
       "      <td>750</td>\n",
       "      <td>65.873838</td>\n",
       "    </tr>\n",
       "    <tr>\n",
       "      <th>4</th>\n",
       "      <td>West Virginia</td>\n",
       "      <td>8.75</td>\n",
       "      <td>7.65</td>\n",
       "      <td>4.70</td>\n",
       "      <td>18200.0</td>\n",
       "      <td>15952.30</td>\n",
       "      <td>600</td>\n",
       "      <td>45.134557</td>\n",
       "    </tr>\n",
       "  </tbody>\n",
       "</table>\n",
       "</div>"
      ],
      "text/plain": [
       "           State  MinimumWage  SSTax  IncomeTax  GrossIncome  NetIncome  \\\n",
       "0    Mississippi         7.25   7.65       5.50      15080.0   13096.98   \n",
       "1        Alabama         7.25   7.65       4.00      15080.0   13323.18   \n",
       "2      Louisiana         7.25   7.65       2.00      15080.0   13624.78   \n",
       "3      Wisconsin         7.25   7.65       1.75      15080.0   13662.48   \n",
       "4  West Virginia         8.75   7.65       4.70      18200.0   15952.30   \n",
       "\n",
       "   AvgRent  IncRentPercentage  \n",
       "0      600          54.974506  \n",
       "1      500          45.034294  \n",
       "2      700          61.652372  \n",
       "3      750          65.873838  \n",
       "4      600          45.134557  "
      ]
     },
     "execution_count": 71,
     "metadata": {},
     "output_type": "execute_result"
    }
   ],
   "source": [
    "data3 = {\n",
    "    \"State\": [\"Mississippi\", \"Alabama\", \"Louisiana\", \"Wisconsin\", \"West Virginia\"],\n",
    "    \"MinimumWage\": [7.25, 7.25, 7.25, 7.25, 8.75],  \n",
    "    \"SSTax\": [7.65, 7.65, 7.65, 7.65, 7.65], #percentage of income that is taxed for Medicair and SS - Federal\n",
    "    \"IncomeTax\":[5.5, 4, 2, 1.75, 4.7], # income tax percentage based on minimum wage amounts. includes federal and state tax\n",
    "}\n",
    "\n",
    "lower = pd.DataFrame(data3)\n",
    "\n",
    "# Calculate Gross Income (40 hours/week, 52 weeks/year)\n",
    "lower[\"GrossIncome\"] = lower[\"MinimumWage\"] * 40 * 52\n",
    "\n",
    "# Calculate Net Income\n",
    "lower[\"NetIncome\"] = lower[\"GrossIncome\"] * (1 - (lower[\"SSTax\"] + lower[\"IncomeTax\"]) / 100)\n",
    "\n",
    "# Create new column showing average rent for one bedroom per state in 2024:\n",
    "lower[\"AvgRent\"] = [600, 500, 700, 750, 600]\n",
    "\n",
    "# create column that shows percentage of income that would be spent on average rent if making minimum wage:\n",
    "lower[\"IncRentPercentage\"] = (lower[\"AvgRent\"] * 12 / lower[\"NetIncome\"]) * 100\n",
    "\n",
    "# Show data\n",
    "lower"
   ]
  },
  {
   "cell_type": "code",
   "execution_count": 78,
   "id": "ccf9a9b8-b186-456e-b563-33c466bd4c23",
   "metadata": {},
   "outputs": [
    {
     "data": {
      "text/html": [
       "<div>\n",
       "<style scoped>\n",
       "    .dataframe tbody tr th:only-of-type {\n",
       "        vertical-align: middle;\n",
       "    }\n",
       "\n",
       "    .dataframe tbody tr th {\n",
       "        vertical-align: top;\n",
       "    }\n",
       "\n",
       "    .dataframe thead th {\n",
       "        text-align: right;\n",
       "    }\n",
       "</style>\n",
       "<table border=\"1\" class=\"dataframe\">\n",
       "  <thead>\n",
       "    <tr style=\"text-align: right;\">\n",
       "      <th></th>\n",
       "      <th>State</th>\n",
       "      <th>MinimumWage</th>\n",
       "      <th>SSTax</th>\n",
       "      <th>IncomeTax</th>\n",
       "      <th>GrossIncome</th>\n",
       "      <th>NetIncome</th>\n",
       "      <th>AvgRent</th>\n",
       "      <th>IncRentPercentage</th>\n",
       "    </tr>\n",
       "  </thead>\n",
       "  <tbody>\n",
       "    <tr>\n",
       "      <th>0</th>\n",
       "      <td>Washington DC</td>\n",
       "      <td>17.50</td>\n",
       "      <td>7.65</td>\n",
       "      <td>10.00</td>\n",
       "      <td>36400.0</td>\n",
       "      <td>29975.4000</td>\n",
       "      <td>2000</td>\n",
       "      <td>80.065654</td>\n",
       "    </tr>\n",
       "    <tr>\n",
       "      <th>1</th>\n",
       "      <td>New York</td>\n",
       "      <td>15.00</td>\n",
       "      <td>7.65</td>\n",
       "      <td>9.50</td>\n",
       "      <td>31200.0</td>\n",
       "      <td>25849.2000</td>\n",
       "      <td>2100</td>\n",
       "      <td>97.488510</td>\n",
       "    </tr>\n",
       "    <tr>\n",
       "      <th>2</th>\n",
       "      <td>Vermont</td>\n",
       "      <td>13.67</td>\n",
       "      <td>7.65</td>\n",
       "      <td>7.00</td>\n",
       "      <td>28433.6</td>\n",
       "      <td>24268.0776</td>\n",
       "      <td>1500</td>\n",
       "      <td>74.171512</td>\n",
       "    </tr>\n",
       "    <tr>\n",
       "      <th>3</th>\n",
       "      <td>California</td>\n",
       "      <td>16.00</td>\n",
       "      <td>7.65</td>\n",
       "      <td>8.00</td>\n",
       "      <td>33280.0</td>\n",
       "      <td>28071.6800</td>\n",
       "      <td>1700</td>\n",
       "      <td>72.671105</td>\n",
       "    </tr>\n",
       "    <tr>\n",
       "      <th>4</th>\n",
       "      <td>Oregon</td>\n",
       "      <td>14.70</td>\n",
       "      <td>7.65</td>\n",
       "      <td>12.50</td>\n",
       "      <td>30576.0</td>\n",
       "      <td>24414.9360</td>\n",
       "      <td>1500</td>\n",
       "      <td>73.725362</td>\n",
       "    </tr>\n",
       "    <tr>\n",
       "      <th>5</th>\n",
       "      <td>Mississippi</td>\n",
       "      <td>7.25</td>\n",
       "      <td>7.65</td>\n",
       "      <td>5.50</td>\n",
       "      <td>15080.0</td>\n",
       "      <td>13096.9800</td>\n",
       "      <td>600</td>\n",
       "      <td>54.974506</td>\n",
       "    </tr>\n",
       "    <tr>\n",
       "      <th>6</th>\n",
       "      <td>Alabama</td>\n",
       "      <td>7.25</td>\n",
       "      <td>7.65</td>\n",
       "      <td>4.00</td>\n",
       "      <td>15080.0</td>\n",
       "      <td>13323.1800</td>\n",
       "      <td>500</td>\n",
       "      <td>45.034294</td>\n",
       "    </tr>\n",
       "    <tr>\n",
       "      <th>7</th>\n",
       "      <td>Louisiana</td>\n",
       "      <td>7.25</td>\n",
       "      <td>7.65</td>\n",
       "      <td>2.00</td>\n",
       "      <td>15080.0</td>\n",
       "      <td>13624.7800</td>\n",
       "      <td>700</td>\n",
       "      <td>61.652372</td>\n",
       "    </tr>\n",
       "    <tr>\n",
       "      <th>8</th>\n",
       "      <td>Wisconsin</td>\n",
       "      <td>7.25</td>\n",
       "      <td>7.65</td>\n",
       "      <td>1.75</td>\n",
       "      <td>15080.0</td>\n",
       "      <td>13662.4800</td>\n",
       "      <td>750</td>\n",
       "      <td>65.873838</td>\n",
       "    </tr>\n",
       "    <tr>\n",
       "      <th>9</th>\n",
       "      <td>West Virginia</td>\n",
       "      <td>8.75</td>\n",
       "      <td>7.65</td>\n",
       "      <td>4.70</td>\n",
       "      <td>18200.0</td>\n",
       "      <td>15952.3000</td>\n",
       "      <td>600</td>\n",
       "      <td>45.134557</td>\n",
       "    </tr>\n",
       "  </tbody>\n",
       "</table>\n",
       "</div>"
      ],
      "text/plain": [
       "           State  MinimumWage  SSTax  IncomeTax  GrossIncome   NetIncome  \\\n",
       "0  Washington DC        17.50   7.65      10.00      36400.0  29975.4000   \n",
       "1       New York        15.00   7.65       9.50      31200.0  25849.2000   \n",
       "2        Vermont        13.67   7.65       7.00      28433.6  24268.0776   \n",
       "3     California        16.00   7.65       8.00      33280.0  28071.6800   \n",
       "4         Oregon        14.70   7.65      12.50      30576.0  24414.9360   \n",
       "5    Mississippi         7.25   7.65       5.50      15080.0  13096.9800   \n",
       "6        Alabama         7.25   7.65       4.00      15080.0  13323.1800   \n",
       "7      Louisiana         7.25   7.65       2.00      15080.0  13624.7800   \n",
       "8      Wisconsin         7.25   7.65       1.75      15080.0  13662.4800   \n",
       "9  West Virginia         8.75   7.65       4.70      18200.0  15952.3000   \n",
       "\n",
       "   AvgRent  IncRentPercentage  \n",
       "0     2000          80.065654  \n",
       "1     2100          97.488510  \n",
       "2     1500          74.171512  \n",
       "3     1700          72.671105  \n",
       "4     1500          73.725362  \n",
       "5      600          54.974506  \n",
       "6      500          45.034294  \n",
       "7      700          61.652372  \n",
       "8      750          65.873838  \n",
       "9      600          45.134557  "
      ]
     },
     "execution_count": 78,
     "metadata": {},
     "output_type": "execute_result"
    }
   ],
   "source": [
    "# Combine the two dataframes:\n",
    "combined = pd.concat([dataframe, lower],axis=0, ignore_index=True)\n",
    "combined"
   ]
  },
  {
   "cell_type": "markdown",
   "id": "70f90ebd-aa56-44ba-b57a-c00f78063624",
   "metadata": {},
   "source": [
    "Create split bar graph that shows tax percentage amounts taken out of paycheck for minimum wage earners per state"
   ]
  },
  {
   "cell_type": "code",
   "execution_count": 84,
   "id": "352d80ee-5539-48ac-98bc-2ef5ab1809d4",
   "metadata": {},
   "outputs": [
    {
     "data": {
      "image/png": "[encoded data removed]",
      "text/plain": [
       "<Figure size 1200x600 with 1 Axes>"
      ]
     },
     "metadata": {},
     "output_type": "display_data"
    }
   ],
   "source": [
    "# Create plot\n",
    "fig, ax = plt.subplots(figsize=(12, 6))\n",
    "\n",
    "# Plot stacked bar chart\n",
    "bars1 = ax.bar(combined['State'], combined['SSTax'], label=\"Social Security Tax\", color='#687F86') \n",
    "bars2 = ax.bar(combined['State'], combined['IncomeTax'], bottom=combined['SSTax'], label=\"Income Tax\", color='#86687F')\n",
    "\n",
    "# Add a light gray dotted line at the threshold of the Social Security Tax\n",
    "ax.axhline(y=7.65, color='gray', linestyle='--', linewidth=1.5)\n",
    "\n",
    "# Add label to the gray dotted line\n",
    "ax.text(9.8, 7.65 + .5, 'Social Security Tax\\n          (7.65%)', color='gray', fontsize=10, va='center')\n",
    "\n",
    "# Set labels and title\n",
    "ax.set_ylabel('Tax Amounts (%)', fontweight='bold', fontsize=15)\n",
    "ax.set_title('Taxation on Minimum Wage per State', fontweight='bold', fontsize=18)\n",
    "\n",
    "# Rotate x-axis labels\n",
    "plt.xticks(rotation=45, ha='right')\n",
    "\n",
    "# Remove the right and top spine\n",
    "ax.spines['right'].set_visible(False)\n",
    "ax.spines['top'].set_visible(False)\n",
    "\n",
    "# Set the border color to light grey\n",
    "ax.spines['bottom'].set_color('lightgrey')\n",
    "ax.spines['left'].set_color('lightgrey')\n",
    "\n",
    "# Add values on top of the bars\n",
    "for i in range(len(combined)):\n",
    "    total = combined['SSTax'][i] + combined['IncomeTax'][i] \n",
    "    ax.text(i, total, f'{total:.2f}', ha='center', va='bottom', fontsize=12, color='black', fontname='Helvetica')\n",
    "\n",
    "# Manually set the order of the legend to ensure Income Tax is on top of Social Security Tax\n",
    "handles, labels = ax.get_legend_handles_labels()\n",
    "ax.legend([handles[1], handles[0]], ['Income Tax', 'Social Security Tax'], title='Tax Types')\n",
    "\n",
    "# Show plot\n",
    "plt.show()"
   ]
  },
  {
   "cell_type": "markdown",
   "id": "92dcbbe2-af2c-4ab5-a92f-c85ca7aa2685",
   "metadata": {},
   "source": [
    "Combine lower and upper states into one dataset"
   ]
  },
  {
   "cell_type": "code",
   "execution_count": 89,
   "id": "3da7d992-e3df-4241-85df-81928586de4e",
   "metadata": {},
   "outputs": [
    {
     "data": {
      "text/html": [
       "<div>\n",
       "<style scoped>\n",
       "    .dataframe tbody tr th:only-of-type {\n",
       "        vertical-align: middle;\n",
       "    }\n",
       "\n",
       "    .dataframe tbody tr th {\n",
       "        vertical-align: top;\n",
       "    }\n",
       "\n",
       "    .dataframe thead th {\n",
       "        text-align: right;\n",
       "    }\n",
       "</style>\n",
       "<table border=\"1\" class=\"dataframe\">\n",
       "  <thead>\n",
       "    <tr style=\"text-align: right;\">\n",
       "      <th></th>\n",
       "      <th>index</th>\n",
       "      <th>State</th>\n",
       "      <th>2023_pop</th>\n",
       "      <th>Homeless people per 10,000</th>\n",
       "      <th>Total Homeless</th>\n",
       "      <th>% individuals experiencing homelessness</th>\n",
       "    </tr>\n",
       "  </thead>\n",
       "  <tbody>\n",
       "    <tr>\n",
       "      <th>0</th>\n",
       "      <td>8</td>\n",
       "      <td>DC</td>\n",
       "      <td>678972</td>\n",
       "      <td>72.491944</td>\n",
       "      <td>4922</td>\n",
       "      <td>0.72</td>\n",
       "    </tr>\n",
       "    <tr>\n",
       "      <th>1</th>\n",
       "      <td>32</td>\n",
       "      <td>NY</td>\n",
       "      <td>19571216</td>\n",
       "      <td>52.730500</td>\n",
       "      <td>103200</td>\n",
       "      <td>0.53</td>\n",
       "    </tr>\n",
       "    <tr>\n",
       "      <th>2</th>\n",
       "      <td>45</td>\n",
       "      <td>VT</td>\n",
       "      <td>647464</td>\n",
       "      <td>50.890860</td>\n",
       "      <td>3295</td>\n",
       "      <td>0.51</td>\n",
       "    </tr>\n",
       "    <tr>\n",
       "      <th>3</th>\n",
       "      <td>37</td>\n",
       "      <td>OR</td>\n",
       "      <td>4233358</td>\n",
       "      <td>47.579250</td>\n",
       "      <td>20142</td>\n",
       "      <td>0.48</td>\n",
       "    </tr>\n",
       "    <tr>\n",
       "      <th>4</th>\n",
       "      <td>4</td>\n",
       "      <td>CA</td>\n",
       "      <td>38965193</td>\n",
       "      <td>46.554113</td>\n",
       "      <td>181399</td>\n",
       "      <td>0.47</td>\n",
       "    </tr>\n",
       "    <tr>\n",
       "      <th>5</th>\n",
       "      <td>48</td>\n",
       "      <td>WV</td>\n",
       "      <td>1770071</td>\n",
       "      <td>7.999679</td>\n",
       "      <td>1416</td>\n",
       "      <td>0.08</td>\n",
       "    </tr>\n",
       "    <tr>\n",
       "      <th>6</th>\n",
       "      <td>49</td>\n",
       "      <td>WI</td>\n",
       "      <td>5910955</td>\n",
       "      <td>8.223713</td>\n",
       "      <td>4861</td>\n",
       "      <td>0.08</td>\n",
       "    </tr>\n",
       "    <tr>\n",
       "      <th>7</th>\n",
       "      <td>18</td>\n",
       "      <td>LA</td>\n",
       "      <td>4573749</td>\n",
       "      <td>6.928671</td>\n",
       "      <td>3169</td>\n",
       "      <td>0.07</td>\n",
       "    </tr>\n",
       "    <tr>\n",
       "      <th>8</th>\n",
       "      <td>0</td>\n",
       "      <td>AL</td>\n",
       "      <td>5108468</td>\n",
       "      <td>6.467692</td>\n",
       "      <td>3304</td>\n",
       "      <td>0.06</td>\n",
       "    </tr>\n",
       "    <tr>\n",
       "      <th>9</th>\n",
       "      <td>24</td>\n",
       "      <td>MS</td>\n",
       "      <td>2939690</td>\n",
       "      <td>3.340488</td>\n",
       "      <td>982</td>\n",
       "      <td>0.03</td>\n",
       "    </tr>\n",
       "  </tbody>\n",
       "</table>\n",
       "</div>"
      ],
      "text/plain": [
       "   index State  2023_pop  Homeless people per 10,000  Total Homeless  \\\n",
       "0      8    DC    678972                   72.491944            4922   \n",
       "1     32    NY  19571216                   52.730500          103200   \n",
       "2     45    VT    647464                   50.890860            3295   \n",
       "3     37    OR   4233358                   47.579250           20142   \n",
       "4      4    CA  38965193                   46.554113          181399   \n",
       "5     48    WV   1770071                    7.999679            1416   \n",
       "6     49    WI   5910955                    8.223713            4861   \n",
       "7     18    LA   4573749                    6.928671            3169   \n",
       "8      0    AL   5108468                    6.467692            3304   \n",
       "9     24    MS   2939690                    3.340488             982   \n",
       "\n",
       "   % individuals experiencing homelessness  \n",
       "0                                     0.72  \n",
       "1                                     0.53  \n",
       "2                                     0.51  \n",
       "3                                     0.48  \n",
       "4                                     0.47  \n",
       "5                                     0.08  \n",
       "6                                     0.08  \n",
       "7                                     0.07  \n",
       "8                                     0.06  \n",
       "9                                     0.03  "
      ]
     },
     "execution_count": 89,
     "metadata": {},
     "output_type": "execute_result"
    }
   ],
   "source": [
    "merged_df = pd.concat([top_5_states, lower_5_states],axis=0, ignore_index=True)\n",
    "merged_df"
   ]
  },
  {
   "cell_type": "markdown",
   "id": "1d99b93d-fd59-437f-af60-c543ef4ff074",
   "metadata": {},
   "source": [
    "Create bar graph to compare lower and upper states"
   ]
  },
  {
   "cell_type": "code",
   "execution_count": 90,
   "id": "f75ae397-cf37-4fa8-b15a-af0c9e13cda3",
   "metadata": {},
   "outputs": [
    {
     "data": {
      "image/png": "[encoded data removed]",
      "text/plain": [
       "<Figure size 1500x800 with 1 Axes>"
      ]
     },
     "metadata": {},
     "output_type": "display_data"
    }
   ],
   "source": [
    "merged_df['% individuals experiencing homelessness'] = merged_df['% individuals experiencing homelessness'].replace('%', '', regex=True).astype(float)\n",
    "\n",
    "# Sort dataframe\n",
    "top_bottom_states = merged_df.sort_values('% individuals experiencing homelessness', ascending=False)\n",
    "\n",
    "# Create plot\n",
    "fig, ax = plt.subplots(figsize=(15, 8))\n",
    "\n",
    "# Use barplot for continuous data (percentage of homelessness)\n",
    "g = sns.barplot(x='% individuals experiencing homelessness', y='State', data=top_bottom_states, palette='crest_r')\n",
    "\n",
    "# Set plot titles\n",
    "plt.title(\"Top 5 States vs. Lower 5 States\", fontsize=16, fontweight='bold')\n",
    "plt.ylabel('State', fontweight='bold', fontsize = 14)\n",
    "plt.xlabel('(%) Individuals experiencing Homelessness', fontweight='bold', fontsize = 14)\n",
    "\n",
    "# Add values to the ends of the bars:\n",
    "for p in g.patches:\n",
    "    width = p.get_width()\n",
    "    g.text(width + 0.004, p.get_y() + p.get_height() / 2, f'{width:.2f}%', \n",
    "           ha='left', va='center', fontsize=12, color='black')\n",
    "    \n",
    "# Show the plot\n",
    "plt.show()"
   ]
  },
  {
   "cell_type": "markdown",
   "id": "cc085e83-fbb4-47e7-aa32-21b114edf02c",
   "metadata": {},
   "source": [
    "Create bar graph showing percentage of income to rent ratio per state"
   ]
  },
  {
   "cell_type": "code",
   "execution_count": 118,
   "id": "c9c53df2-648a-4f1e-b012-8ba430ffeb90",
   "metadata": {},
   "outputs": [
    {
     "data": {
      "image/png": "[encoded data removed]",
      "text/plain": [
       "<Figure size 1200x600 with 1 Axes>"
      ]
     },
     "metadata": {},
     "output_type": "display_data"
    }
   ],
   "source": [
    "# Sort the Dataframe by 'IncRentPercentage' in descending order\n",
    "df_sorted = combined.sort_values(by='IncRentPercentage', ascending=False)\n",
    "\n",
    "# Custom colors used\n",
    "hex_colors = ['#86686B', '#86687E', '#7F6886', '#706886', '#686F86', '#687E86', '#68867F', '#688680', '#688671', '#6C8668']\n",
    "\n",
    "# Create plot\n",
    "plt.figure(figsize=(12, 6))\n",
    "ax = sns.barplot(x='State', y='IncRentPercentage', data=df_sorted, palette = hex_colors)\n",
    "\n",
    "# Set labels and title\n",
    "plt.ylabel('Income to Rent Percentage (%)', fontsize=14, fontweight='bold')\n",
    "plt.xlabel('')\n",
    "plt.title('Income to Rent Ratio for Minimum Wage Earner', fontsize=18, fontweight='bold')\n",
    "\n",
    "# Rotate x-axis labels\n",
    "plt.xticks(rotation=45, ha='right')\n",
    "\n",
    "# Remove the top and right spines\n",
    "sns.despine(top=True, right=True)\n",
    "\n",
    "# Add values on top of bars\n",
    "for bar in ax.patches: \n",
    "    yval = bar.get_height()\n",
    "    ax.text(\n",
    "        bar.get_x() + bar.get_width() / 2,  \n",
    "        yval - 0.00,  \n",
    "        f'{yval:.2f}%',  \n",
    "        ha='center',  \n",
    "        va='bottom',  \n",
    "        fontsize=13, \n",
    "        color=\"black\")\n",
    "\n",
    "# Show the plot\n",
    "plt.show()"
   ]
  },
  {
   "cell_type": "markdown",
   "id": "15cf92ff-12f3-4c0d-91be-fee63e74a9c7",
   "metadata": {},
   "source": [
    "Create choropleth graph to compare with global data:"
   ]
  },
  {
   "cell_type": "code",
   "execution_count": 92,
   "id": "31163514-5372-4702-9ec2-ffba5bfe56a9",
   "metadata": {},
   "outputs": [],
   "source": [
    "# Create dataset\n",
    "data4 = {\n",
    "    \"Country\": ['Austria', 'Denmark', 'Finland', 'France', 'Germany', 'Greece', 'Ireland', 'Italy', 'Netherlands', 'Portugal', \n",
    "               'Spain', 'Sweden', 'United Kingdom', 'Canada', 'United States', 'Australia', 'Japan', 'South Korea'],\n",
    "    \"EstimatedNumber\": [19667, 5789, 3686, 333000, 262600, 1387, 13179, 96197, 30600, 10773, 28552, 33269, 164578, 40713, 653104,\n",
    "                        122494, 2820, 8986], # Estimated number of homeless population per country\n",
    "    \"PopulationSize\":[8.98, 5.93, 5.57, 69.6, 84.29, 10.21, 5.35, 59.03, 18.23, 10.23, 47.98, 10.64, 68.07, 39.19, 335.84, 26.71, 123.7, 51.79]\n",
    "} # Size of general population\n",
    "\n",
    "# Convert to dataframe\n",
    "df_global = pd.DataFrame(data4)"
   ]
  },
  {
   "cell_type": "code",
   "execution_count": 96,
   "id": "931ea3dc-ee08-4497-acda-602c31aed656",
   "metadata": {},
   "outputs": [
    {
     "data": {
      "text/html": [
       "<div>\n",
       "<style scoped>\n",
       "    .dataframe tbody tr th:only-of-type {\n",
       "        vertical-align: middle;\n",
       "    }\n",
       "\n",
       "    .dataframe tbody tr th {\n",
       "        vertical-align: top;\n",
       "    }\n",
       "\n",
       "    .dataframe thead th {\n",
       "        text-align: right;\n",
       "    }\n",
       "</style>\n",
       "<table border=\"1\" class=\"dataframe\">\n",
       "  <thead>\n",
       "    <tr style=\"text-align: right;\">\n",
       "      <th></th>\n",
       "      <th>Country</th>\n",
       "      <th>EstimatedNumber</th>\n",
       "      <th>PopulationSize</th>\n",
       "      <th>Percentage</th>\n",
       "    </tr>\n",
       "  </thead>\n",
       "  <tbody>\n",
       "    <tr>\n",
       "      <th>0</th>\n",
       "      <td>Austria</td>\n",
       "      <td>19667</td>\n",
       "      <td>8.98</td>\n",
       "      <td>0.22%</td>\n",
       "    </tr>\n",
       "    <tr>\n",
       "      <th>1</th>\n",
       "      <td>Denmark</td>\n",
       "      <td>5789</td>\n",
       "      <td>5.93</td>\n",
       "      <td>0.1%</td>\n",
       "    </tr>\n",
       "    <tr>\n",
       "      <th>2</th>\n",
       "      <td>Finland</td>\n",
       "      <td>3686</td>\n",
       "      <td>5.57</td>\n",
       "      <td>0.07%</td>\n",
       "    </tr>\n",
       "    <tr>\n",
       "      <th>3</th>\n",
       "      <td>France</td>\n",
       "      <td>333000</td>\n",
       "      <td>69.60</td>\n",
       "      <td>0.48%</td>\n",
       "    </tr>\n",
       "    <tr>\n",
       "      <th>4</th>\n",
       "      <td>Germany</td>\n",
       "      <td>262600</td>\n",
       "      <td>84.29</td>\n",
       "      <td>0.31%</td>\n",
       "    </tr>\n",
       "  </tbody>\n",
       "</table>\n",
       "</div>"
      ],
      "text/plain": [
       "   Country  EstimatedNumber  PopulationSize Percentage\n",
       "0  Austria            19667            8.98      0.22%\n",
       "1  Denmark             5789            5.93       0.1%\n",
       "2  Finland             3686            5.57      0.07%\n",
       "3   France           333000           69.60      0.48%\n",
       "4  Germany           262600           84.29      0.31%"
      ]
     },
     "execution_count": 96,
     "metadata": {},
     "output_type": "execute_result"
    }
   ],
   "source": [
    "# Calculate percentages of homelessness per population\n",
    "data4[\"Percentage\"] = [\n",
    "    (homeless / (population * 1000000)) \n",
    "    for homeless, population in zip(data4[\"EstimatedNumber\"], data4[\"PopulationSize\"])\n",
    "]\n",
    "\n",
    "# Convert to Dataframe\n",
    "df_global = pd.DataFrame(data4)\n",
    "\n",
    "# Format the 'Percentage' column to 2 decimal places and add a percentage sign\n",
    "df_global[\"Percentage\"] = (df_global[\"Percentage\"] * 100).round(2).astype(str) + '%'\n",
    "\n",
    "df_global.head(5)"
   ]
  },
  {
   "cell_type": "markdown",
   "id": "8647d6b7-8ba7-4cbe-8c32-a65b41dcdf4c",
   "metadata": {},
   "source": [
    "Combine df_global with individual U.S. state data"
   ]
  },
  {
   "cell_type": "code",
   "execution_count": 212,
   "id": "01812cff-5d19-4da6-931a-b65574ac0fd5",
   "metadata": {},
   "outputs": [
    {
     "data": {
      "text/html": [
       "<div>\n",
       "<style scoped>\n",
       "    .dataframe tbody tr th:only-of-type {\n",
       "        vertical-align: middle;\n",
       "    }\n",
       "\n",
       "    .dataframe tbody tr th {\n",
       "        vertical-align: top;\n",
       "    }\n",
       "\n",
       "    .dataframe thead th {\n",
       "        text-align: right;\n",
       "    }\n",
       "</style>\n",
       "<table border=\"1\" class=\"dataframe\">\n",
       "  <thead>\n",
       "    <tr style=\"text-align: right;\">\n",
       "      <th></th>\n",
       "      <th>Location</th>\n",
       "      <th>Percentage</th>\n",
       "      <th>Type</th>\n",
       "    </tr>\n",
       "  </thead>\n",
       "  <tbody>\n",
       "    <tr>\n",
       "      <th>0</th>\n",
       "      <td>Austria</td>\n",
       "      <td>0.22%</td>\n",
       "      <td>Country</td>\n",
       "    </tr>\n",
       "    <tr>\n",
       "      <th>1</th>\n",
       "      <td>Denmark</td>\n",
       "      <td>0.1%</td>\n",
       "      <td>Country</td>\n",
       "    </tr>\n",
       "    <tr>\n",
       "      <th>2</th>\n",
       "      <td>Finland</td>\n",
       "      <td>0.07%</td>\n",
       "      <td>Country</td>\n",
       "    </tr>\n",
       "    <tr>\n",
       "      <th>3</th>\n",
       "      <td>France</td>\n",
       "      <td>0.48%</td>\n",
       "      <td>Country</td>\n",
       "    </tr>\n",
       "    <tr>\n",
       "      <th>4</th>\n",
       "      <td>Germany</td>\n",
       "      <td>0.31%</td>\n",
       "      <td>Country</td>\n",
       "    </tr>\n",
       "    <tr>\n",
       "      <th>...</th>\n",
       "      <td>...</td>\n",
       "      <td>...</td>\n",
       "      <td>...</td>\n",
       "    </tr>\n",
       "    <tr>\n",
       "      <th>46</th>\n",
       "      <td>VA</td>\n",
       "      <td>0.08%</td>\n",
       "      <td>State</td>\n",
       "    </tr>\n",
       "    <tr>\n",
       "      <th>47</th>\n",
       "      <td>WA</td>\n",
       "      <td>0.36%</td>\n",
       "      <td>State</td>\n",
       "    </tr>\n",
       "    <tr>\n",
       "      <th>48</th>\n",
       "      <td>WV</td>\n",
       "      <td>0.08%</td>\n",
       "      <td>State</td>\n",
       "    </tr>\n",
       "    <tr>\n",
       "      <th>49</th>\n",
       "      <td>WI</td>\n",
       "      <td>0.08%</td>\n",
       "      <td>State</td>\n",
       "    </tr>\n",
       "    <tr>\n",
       "      <th>50</th>\n",
       "      <td>WY</td>\n",
       "      <td>0.09%</td>\n",
       "      <td>State</td>\n",
       "    </tr>\n",
       "  </tbody>\n",
       "</table>\n",
       "<p>69 rows × 3 columns</p>\n",
       "</div>"
      ],
      "text/plain": [
       "   Location Percentage     Type\n",
       "0   Austria      0.22%  Country\n",
       "1   Denmark       0.1%  Country\n",
       "2   Finland      0.07%  Country\n",
       "3    France      0.48%  Country\n",
       "4   Germany      0.31%  Country\n",
       "..      ...        ...      ...\n",
       "46       VA      0.08%    State\n",
       "47       WA      0.36%    State\n",
       "48       WV      0.08%    State\n",
       "49       WI      0.08%    State\n",
       "50       WY      0.09%    State\n",
       "\n",
       "[69 rows x 3 columns]"
      ]
     },
     "execution_count": 212,
     "metadata": {},
     "output_type": "execute_result"
    }
   ],
   "source": [
    "# Rename columns for consistency\n",
    "df_state = copy_df.rename(columns={\"State\": \"Location\", \"Homeless people per 10,000\": \"Percentage\"})\n",
    "df_global.rename(columns={\"Country\": \"Location\"}, inplace=True)\n",
    "\n",
    "# Add a \"Type\" column to distinguish global vs. state data\n",
    "df_global[\"Type\"] = \"Country\"\n",
    "df_state[\"Type\"] = \"State\"\n",
    "\n",
    "df_state['Percentage'] = df_state.apply(\n",
    "    lambda row: f\"{row['Percentage']/100:.2f}%\" if row['Type'] == 'State' else row['Percentage'],\n",
    "    axis=1)\n",
    "\n",
    "# Combine both datasets\n",
    "global_state = pd.concat([df_global[[\"Location\", \"Percentage\", \"Type\"]], df_state[[\"Location\", \"Percentage\", \"Type\"]]])\n",
    "\n",
    "global_state[global_state['Type'] == 'Country'].sort_values(by='Percentage', ascending=False)\n",
    "\n",
    "global_state"
   ]
  },
  {
   "cell_type": "code",
   "execution_count": 213,
   "id": "3e892f46-54f3-4616-871b-fc4a91a2ee20",
   "metadata": {},
   "outputs": [
    {
     "data": {
      "application/vnd.plotly.v1+json": {
       "config": {
        "plotlyServerURL": "https://plot.ly"
       },
       "data": [
        {
         "coloraxis": "coloraxis",
         "geo": "geo",
         "hovertemplate": "%{location}: %{z:.2f}",
         "locationmode": "country names",
         "locations": [
          "Austria",
          "Denmark",
          "Finland",
          "France",
          "Germany",
          "Greece",
          "Ireland",
          "Italy",
          "Netherlands",
          "Portugal",
          "Spain",
          "Sweden",
          "United Kingdom",
          "Canada",
          "United States",
          "Australia",
          "Japan",
          "South Korea"
         ],
         "name": "",
         "type": "choropleth",
         "z": [
          0.22,
          0.1,
          0.07,
          0.48,
          0.31,
          0.01,
          0.25,
          0.16,
          0.17,
          0.11,
          0.06,
          0.31,
          0.24,
          0.1,
          0.19,
          0.46,
          0,
          0.02
         ]
        },
        {
         "coloraxis": "coloraxis",
         "hovertemplate": "%{location}: %{z:.2f}",
         "locationmode": "USA-states",
         "locations": [
          "AL",
          "AK",
          "AZ",
          "AR",
          "CA",
          "CO",
          "CT",
          "DE",
          "DC",
          "FL",
          "GA",
          "HI",
          "ID",
          "IL",
          "IN",
          "IA",
          "KS",
          "KY",
          "LA",
          "ME",
          "MD",
          "MA",
          "MI",
          "MN",
          "MS",
          "MO",
          "MT",
          "NE",
          "NV",
          "NH",
          "NJ",
          "NM",
          "NY",
          "NC",
          "ND",
          "OH",
          "OK",
          "OR",
          "PA",
          "RI",
          "SC",
          "SD",
          "TN",
          "TX",
          "UT",
          "VT",
          "VA",
          "WA",
          "WV",
          "WI",
          "WY"
         ],
         "type": "choropleth",
         "z": [
          0.06,
          0.36,
          0.19,
          0.09,
          0.47,
          0.25,
          0.08,
          0.12,
          0.72,
          0.14,
          0.11,
          0.43,
          0.12,
          0.1,
          0.09,
          0.08,
          0.09,
          0.11,
          0.07,
          0.31,
          0.09,
          0.27,
          0.09,
          0.15,
          0.03,
          0.11,
          0.19,
          0.12,
          0.27,
          0.17,
          0.11,
          0.18,
          0.53,
          0.09,
          0.1,
          0.1,
          0.11,
          0.48,
          0.1,
          0.17,
          0.08,
          0.14,
          0.13,
          0.09,
          0.11,
          0.51,
          0.08,
          0.36,
          0.08,
          0.08,
          0.09
         ]
        }
       ],
       "layout": {
        "coloraxis": {
         "cmax": 0.4,
         "cmin": 0,
         "colorbar": {
          "len": 0.6,
          "thickness": 15,
          "title": {
           "text": "(%) Homeless per Population"
          }
         },
         "colorscale": [
          [
           0,
           "rgb(253, 253, 204)"
          ],
          [
           0.09090909090909091,
           "rgb(206, 236, 179)"
          ],
          [
           0.18181818181818182,
           "rgb(156, 219, 165)"
          ],
          [
           0.2727272727272727,
           "rgb(111, 201, 163)"
          ],
          [
           0.36363636363636365,
           "rgb(86, 177, 163)"
          ],
          [
           0.45454545454545453,
           "rgb(76, 153, 160)"
          ],
          [
           0.5454545454545454,
           "rgb(68, 130, 155)"
          ],
          [
           0.6363636363636364,
           "rgb(62, 108, 150)"
          ],
          [
           0.7272727272727273,
           "rgb(62, 82, 143)"
          ],
          [
           0.8181818181818182,
           "rgb(64, 60, 115)"
          ],
          [
           0.9090909090909091,
           "rgb(54, 43, 77)"
          ],
          [
           1,
           "rgb(39, 26, 44)"
          ]
         ]
        },
        "geo": {
         "center": {},
         "domain": {
          "x": [
           0,
           1
          ],
          "y": [
           0,
           1
          ]
         }
        },
        "height": 800,
        "legend": {
         "tracegroupgap": 0
        },
        "template": {
         "data": {
          "bar": [
           {
            "error_x": {
             "color": "#2a3f5f"
            },
            "error_y": {
             "color": "#2a3f5f"
            },
            "marker": {
             "line": {
              "color": "#E5ECF6",
              "width": 0.5
             },
             "pattern": {
              "fillmode": "overlay",
              "size": 10,
              "solidity": 0.2
             }
            },
            "type": "bar"
           }
          ],
          "barpolar": [
           {
            "marker": {
             "line": {
              "color": "#E5ECF6",
              "width": 0.5
             },
             "pattern": {
              "fillmode": "overlay",
              "size": 10,
              "solidity": 0.2
             }
            },
            "type": "barpolar"
           }
          ],
          "carpet": [
           {
            "aaxis": {
             "endlinecolor": "#2a3f5f",
             "gridcolor": "white",
             "linecolor": "white",
             "minorgridcolor": "white",
             "startlinecolor": "#2a3f5f"
            },
            "baxis": {
             "endlinecolor": "#2a3f5f",
             "gridcolor": "white",
             "linecolor": "white",
             "minorgridcolor": "white",
             "startlinecolor": "#2a3f5f"
            },
            "type": "carpet"
           }
          ],
          "choropleth": [
           {
            "colorbar": {
             "outlinewidth": 0,
             "ticks": ""
            },
            "type": "choropleth"
           }
          ],
          "contour": [
           {
            "colorbar": {
             "outlinewidth": 0,
             "ticks": ""
            },
            "colorscale": [
             [
              0,
              "#0d0887"
             ],
             [
              0.1111111111111111,
              "#46039f"
             ],
             [
              0.2222222222222222,
              "#7201a8"
             ],
             [
              0.3333333333333333,
              "#9c179e"
             ],
             [
              0.4444444444444444,
              "#bd3786"
             ],
             [
              0.5555555555555556,
              "#d8576b"
             ],
             [
              0.6666666666666666,
              "#ed7953"
             ],
             [
              0.7777777777777778,
              "#fb9f3a"
             ],
             [
              0.8888888888888888,
              "#fdca26"
             ],
             [
              1,
              "#f0f921"
             ]
            ],
            "type": "contour"
           }
          ],
          "contourcarpet": [
           {
            "colorbar": {
             "outlinewidth": 0,
             "ticks": ""
            },
            "type": "contourcarpet"
           }
          ],
          "heatmap": [
           {
            "colorbar": {
             "outlinewidth": 0,
             "ticks": ""
            },
            "colorscale": [
             [
              0,
              "#0d0887"
             ],
             [
              0.1111111111111111,
              "#46039f"
             ],
             [
              0.2222222222222222,
              "#7201a8"
             ],
             [
              0.3333333333333333,
              "#9c179e"
             ],
             [
              0.4444444444444444,
              "#bd3786"
             ],
             [
              0.5555555555555556,
              "#d8576b"
             ],
             [
              0.6666666666666666,
              "#ed7953"
             ],
             [
              0.7777777777777778,
              "#fb9f3a"
             ],
             [
              0.8888888888888888,
              "#fdca26"
             ],
             [
              1,
              "#f0f921"
             ]
            ],
            "type": "heatmap"
           }
          ],
          "heatmapgl": [
           {
            "colorbar": {
             "outlinewidth": 0,
             "ticks": ""
            },
            "colorscale": [
             [
              0,
              "#0d0887"
             ],
             [
              0.1111111111111111,
              "#46039f"
             ],
             [
              0.2222222222222222,
              "#7201a8"
             ],
             [
              0.3333333333333333,
              "#9c179e"
             ],
             [
              0.4444444444444444,
              "#bd3786"
             ],
             [
              0.5555555555555556,
              "#d8576b"
             ],
             [
              0.6666666666666666,
              "#ed7953"
             ],
             [
              0.7777777777777778,
              "#fb9f3a"
             ],
             [
              0.8888888888888888,
              "#fdca26"
             ],
             [
              1,
              "#f0f921"
             ]
            ],
            "type": "heatmapgl"
           }
          ],
          "histogram": [
           {
            "marker": {
             "pattern": {
              "fillmode": "overlay",
              "size": 10,
              "solidity": 0.2
             }
            },
            "type": "histogram"
           }
          ],
          "histogram2d": [
           {
            "colorbar": {
             "outlinewidth": 0,
             "ticks": ""
            },
            "colorscale": [
             [
              0,
              "#0d0887"
             ],
             [
              0.1111111111111111,
              "#46039f"
             ],
             [
              0.2222222222222222,
              "#7201a8"
             ],
             [
              0.3333333333333333,
              "#9c179e"
             ],
             [
              0.4444444444444444,
              "#bd3786"
             ],
             [
              0.5555555555555556,
              "#d8576b"
             ],
             [
              0.6666666666666666,
              "#ed7953"
             ],
             [
              0.7777777777777778,
              "#fb9f3a"
             ],
             [
              0.8888888888888888,
              "#fdca26"
             ],
             [
              1,
              "#f0f921"
             ]
            ],
            "type": "histogram2d"
           }
          ],
          "histogram2dcontour": [
           {
            "colorbar": {
             "outlinewidth": 0,
             "ticks": ""
            },
            "colorscale": [
             [
              0,
              "#0d0887"
             ],
             [
              0.1111111111111111,
              "#46039f"
             ],
             [
              0.2222222222222222,
              "#7201a8"
             ],
             [
              0.3333333333333333,
              "#9c179e"
             ],
             [
              0.4444444444444444,
              "#bd3786"
             ],
             [
              0.5555555555555556,
              "#d8576b"
             ],
             [
              0.6666666666666666,
              "#ed7953"
             ],
             [
              0.7777777777777778,
              "#fb9f3a"
             ],
             [
              0.8888888888888888,
              "#fdca26"
             ],
             [
              1,
              "#f0f921"
             ]
            ],
            "type": "histogram2dcontour"
           }
          ],
          "mesh3d": [
           {
            "colorbar": {
             "outlinewidth": 0,
             "ticks": ""
            },
            "type": "mesh3d"
           }
          ],
          "parcoords": [
           {
            "line": {
             "colorbar": {
              "outlinewidth": 0,
              "ticks": ""
             }
            },
            "type": "parcoords"
           }
          ],
          "pie": [
           {
            "automargin": true,
            "type": "pie"
           }
          ],
          "scatter": [
           {
            "fillpattern": {
             "fillmode": "overlay",
             "size": 10,
             "solidity": 0.2
            },
            "type": "scatter"
           }
          ],
          "scatter3d": [
           {
            "line": {
             "colorbar": {
              "outlinewidth": 0,
              "ticks": ""
             }
            },
            "marker": {
             "colorbar": {
              "outlinewidth": 0,
              "ticks": ""
             }
            },
            "type": "scatter3d"
           }
          ],
          "scattercarpet": [
           {
            "marker": {
             "colorbar": {
              "outlinewidth": 0,
              "ticks": ""
             }
            },
            "type": "scattercarpet"
           }
          ],
          "scattergeo": [
           {
            "marker": {
             "colorbar": {
              "outlinewidth": 0,
              "ticks": ""
             }
            },
            "type": "scattergeo"
           }
          ],
          "scattergl": [
           {
            "marker": {
             "colorbar": {
              "outlinewidth": 0,
              "ticks": ""
             }
            },
            "type": "scattergl"
           }
          ],
          "scattermapbox": [
           {
            "marker": {
             "colorbar": {
              "outlinewidth": 0,
              "ticks": ""
             }
            },
            "type": "scattermapbox"
           }
          ],
          "scatterpolar": [
           {
            "marker": {
             "colorbar": {
              "outlinewidth": 0,
              "ticks": ""
             }
            },
            "type": "scatterpolar"
           }
          ],
          "scatterpolargl": [
           {
            "marker": {
             "colorbar": {
              "outlinewidth": 0,
              "ticks": ""
             }
            },
            "type": "scatterpolargl"
           }
          ],
          "scatterternary": [
           {
            "marker": {
             "colorbar": {
              "outlinewidth": 0,
              "ticks": ""
             }
            },
            "type": "scatterternary"
           }
          ],
          "surface": [
           {
            "colorbar": {
             "outlinewidth": 0,
             "ticks": ""
            },
            "colorscale": [
             [
              0,
              "#0d0887"
             ],
             [
              0.1111111111111111,
              "#46039f"
             ],
             [
              0.2222222222222222,
              "#7201a8"
             ],
             [
              0.3333333333333333,
              "#9c179e"
             ],
             [
              0.4444444444444444,
              "#bd3786"
             ],
             [
              0.5555555555555556,
              "#d8576b"
             ],
             [
              0.6666666666666666,
              "#ed7953"
             ],
             [
              0.7777777777777778,
              "#fb9f3a"
             ],
             [
              0.8888888888888888,
              "#fdca26"
             ],
             [
              1,
              "#f0f921"
             ]
            ],
            "type": "surface"
           }
          ],
          "table": [
           {
            "cells": {
             "fill": {
              "color": "#EBF0F8"
             },
             "line": {
              "color": "white"
             }
            },
            "header": {
             "fill": {
              "color": "#C8D4E3"
             },
             "line": {
              "color": "white"
             }
            },
            "type": "table"
           }
          ]
         },
         "layout": {
          "annotationdefaults": {
           "arrowcolor": "#2a3f5f",
           "arrowhead": 0,
           "arrowwidth": 1
          },
          "autotypenumbers": "strict",
          "coloraxis": {
           "colorbar": {
            "outlinewidth": 0,
            "ticks": ""
           }
          },
          "colorscale": {
           "diverging": [
            [
             0,
             "#8e0152"
            ],
            [
             0.1,
             "#c51b7d"
            ],
            [
             0.2,
             "#de77ae"
            ],
            [
             0.3,
             "#f1b6da"
            ],
            [
             0.4,
             "#fde0ef"
            ],
            [
             0.5,
             "#f7f7f7"
            ],
            [
             0.6,
             "#e6f5d0"
            ],
            [
             0.7,
             "#b8e186"
            ],
            [
             0.8,
             "#7fbc41"
            ],
            [
             0.9,
             "#4d9221"
            ],
            [
             1,
             "#276419"
            ]
           ],
           "sequential": [
            [
             0,
             "#0d0887"
            ],
            [
             0.1111111111111111,
             "#46039f"
            ],
            [
             0.2222222222222222,
             "#7201a8"
            ],
            [
             0.3333333333333333,
             "#9c179e"
            ],
            [
             0.4444444444444444,
             "#bd3786"
            ],
            [
             0.5555555555555556,
             "#d8576b"
            ],
            [
             0.6666666666666666,
             "#ed7953"
            ],
            [
             0.7777777777777778,
             "#fb9f3a"
            ],
            [
             0.8888888888888888,
             "#fdca26"
            ],
            [
             1,
             "#f0f921"
            ]
           ],
           "sequentialminus": [
            [
             0,
             "#0d0887"
            ],
            [
             0.1111111111111111,
             "#46039f"
            ],
            [
             0.2222222222222222,
             "#7201a8"
            ],
            [
             0.3333333333333333,
             "#9c179e"
            ],
            [
             0.4444444444444444,
             "#bd3786"
            ],
            [
             0.5555555555555556,
             "#d8576b"
            ],
            [
             0.6666666666666666,
             "#ed7953"
            ],
            [
             0.7777777777777778,
             "#fb9f3a"
            ],
            [
             0.8888888888888888,
             "#fdca26"
            ],
            [
             1,
             "#f0f921"
            ]
           ]
          },
          "colorway": [
           "#636efa",
           "#EF553B",
           "#00cc96",
           "#ab63fa",
           "#FFA15A",
           "#19d3f3",
           "#FF6692",
           "#B6E880",
           "#FF97FF",
           "#FECB52"
          ],
          "font": {
           "color": "#2a3f5f"
          },
          "geo": {
           "bgcolor": "white",
           "lakecolor": "white",
           "landcolor": "#E5ECF6",
           "showlakes": true,
           "showland": true,
           "subunitcolor": "white"
          },
          "hoverlabel": {
           "align": "left"
          },
          "hovermode": "closest",
          "mapbox": {
           "style": "light"
          },
          "paper_bgcolor": "white",
          "plot_bgcolor": "#E5ECF6",
          "polar": {
           "angularaxis": {
            "gridcolor": "white",
            "linecolor": "white",
            "ticks": ""
           },
           "bgcolor": "#E5ECF6",
           "radialaxis": {
            "gridcolor": "white",
            "linecolor": "white",
            "ticks": ""
           }
          },
          "scene": {
           "xaxis": {
            "backgroundcolor": "#E5ECF6",
            "gridcolor": "white",
            "gridwidth": 2,
            "linecolor": "white",
            "showbackground": true,
            "ticks": "",
            "zerolinecolor": "white"
           },
           "yaxis": {
            "backgroundcolor": "#E5ECF6",
            "gridcolor": "white",
            "gridwidth": 2,
            "linecolor": "white",
            "showbackground": true,
            "ticks": "",
            "zerolinecolor": "white"
           },
           "zaxis": {
            "backgroundcolor": "#E5ECF6",
            "gridcolor": "white",
            "gridwidth": 2,
            "linecolor": "white",
            "showbackground": true,
            "ticks": "",
            "zerolinecolor": "white"
           }
          },
          "shapedefaults": {
           "line": {
            "color": "#2a3f5f"
           }
          },
          "ternary": {
           "aaxis": {
            "gridcolor": "white",
            "linecolor": "white",
            "ticks": ""
           },
           "baxis": {
            "gridcolor": "white",
            "linecolor": "white",
            "ticks": ""
           },
           "bgcolor": "#E5ECF6",
           "caxis": {
            "gridcolor": "white",
            "linecolor": "white",
            "ticks": ""
           }
          },
          "title": {
           "x": 0.05
          },
          "xaxis": {
           "automargin": true,
           "gridcolor": "white",
           "linecolor": "white",
           "ticks": "",
           "title": {
            "standoff": 15
           },
           "zerolinecolor": "white",
           "zerolinewidth": 2
          },
          "yaxis": {
           "automargin": true,
           "gridcolor": "white",
           "linecolor": "white",
           "ticks": "",
           "title": {
            "standoff": 15
           },
           "zerolinecolor": "white",
           "zerolinewidth": 2
          }
         }
        },
        "title": {
         "font": {
          "color": "black",
          "family": "Roboto",
          "size": 20
         },
         "text": "Global and U.S. Homelessness Data",
         "x": 0.5,
         "xanchor": "center",
         "yanchor": "bottom"
        },
        "width": 1000
       }
      },
      "image/png": "[encoded data removed]",
      "text/html": [
       "<div>                            <div id=\"fec2d48b-560f-4098-9589-f636391feb28\" class=\"plotly-graph-div\" style=\"height:800px; width:1000px;\"></div>            <script type=\"text/javascript\">                require([\"plotly\"], function(Plotly) {                    window.PLOTLYENV=window.PLOTLYENV || {};                                    if (document.getElementById(\"fec2d48b-560f-4098-9589-f636391feb28\")) {                    Plotly.newPlot(                        \"fec2d48b-560f-4098-9589-f636391feb28\",                        [{\"coloraxis\":\"coloraxis\",\"geo\":\"geo\",\"hovertemplate\":\"%{location}: %{z:.2f}\",\"locationmode\":\"country names\",\"locations\":[\"Austria\",\"Denmark\",\"Finland\",\"France\",\"Germany\",\"Greece\",\"Ireland\",\"Italy\",\"Netherlands\",\"Portugal\",\"Spain\",\"Sweden\",\"United Kingdom\",\"Canada\",\"United States\",\"Australia\",\"Japan\",\"South Korea\"],\"name\":\"\",\"z\":[0.22,0.1,0.07,0.48,0.31,0.01,0.25,0.16,0.17,0.11,0.06,0.31,0.24,0.1,0.19,0.46,0.0,0.02],\"type\":\"choropleth\"},{\"coloraxis\":\"coloraxis\",\"locationmode\":\"USA-states\",\"locations\":[\"AL\",\"AK\",\"AZ\",\"AR\",\"CA\",\"CO\",\"CT\",\"DE\",\"DC\",\"FL\",\"GA\",\"HI\",\"ID\",\"IL\",\"IN\",\"IA\",\"KS\",\"KY\",\"LA\",\"ME\",\"MD\",\"MA\",\"MI\",\"MN\",\"MS\",\"MO\",\"MT\",\"NE\",\"NV\",\"NH\",\"NJ\",\"NM\",\"NY\",\"NC\",\"ND\",\"OH\",\"OK\",\"OR\",\"PA\",\"RI\",\"SC\",\"SD\",\"TN\",\"TX\",\"UT\",\"VT\",\"VA\",\"WA\",\"WV\",\"WI\",\"WY\"],\"z\":[0.06,0.36,0.19,0.09,0.47,0.25,0.08,0.12,0.72,0.14,0.11,0.43,0.12,0.1,0.09,0.08,0.09,0.11,0.07,0.31,0.09,0.27,0.09,0.15,0.03,0.11,0.19,0.12,0.27,0.17,0.11,0.18,0.53,0.09,0.1,0.1,0.11,0.48,0.1,0.17,0.08,0.14,0.13,0.09,0.11,0.51,0.08,0.36,0.08,0.08,0.09],\"type\":\"choropleth\",\"hovertemplate\":\"%{location}: %{z:.2f}\"}],                        {\"template\":{\"data\":{\"histogram2dcontour\":[{\"type\":\"histogram2dcontour\",\"colorbar\":{\"outlinewidth\":0,\"ticks\":\"\"},\"colorscale\":[[0.0,\"#0d0887\"],[0.1111111111111111,\"#46039f\"],[0.2222222222222222,\"#7201a8\"],[0.3333333333333333,\"#9c179e\"],[0.4444444444444444,\"#bd3786\"],[0.5555555555555556,\"#d8576b\"],[0.6666666666666666,\"#ed7953\"],[0.7777777777777778,\"#fb9f3a\"],[0.8888888888888888,\"#fdca26\"],[1.0,\"#f0f921\"]]}],\"choropleth\":[{\"type\":\"choropleth\",\"colorbar\":{\"outlinewidth\":0,\"ticks\":\"\"}}],\"histogram2d\":[{\"type\":\"histogram2d\",\"colorbar\":{\"outlinewidth\":0,\"ticks\":\"\"},\"colorscale\":[[0.0,\"#0d0887\"],[0.1111111111111111,\"#46039f\"],[0.2222222222222222,\"#7201a8\"],[0.3333333333333333,\"#9c179e\"],[0.4444444444444444,\"#bd3786\"],[0.5555555555555556,\"#d8576b\"],[0.6666666666666666,\"#ed7953\"],[0.7777777777777778,\"#fb9f3a\"],[0.8888888888888888,\"#fdca26\"],[1.0,\"#f0f921\"]]}],\"heatmap\":[{\"type\":\"heatmap\",\"colorbar\":{\"outlinewidth\":0,\"ticks\":\"\"},\"colorscale\":[[0.0,\"#0d0887\"],[0.1111111111111111,\"#46039f\"],[0.2222222222222222,\"#7201a8\"],[0.3333333333333333,\"#9c179e\"],[0.4444444444444444,\"#bd3786\"],[0.5555555555555556,\"#d8576b\"],[0.6666666666666666,\"#ed7953\"],[0.7777777777777778,\"#fb9f3a\"],[0.8888888888888888,\"#fdca26\"],[1.0,\"#f0f921\"]]}],\"heatmapgl\":[{\"type\":\"heatmapgl\",\"colorbar\":{\"outlinewidth\":0,\"ticks\":\"\"},\"colorscale\":[[0.0,\"#0d0887\"],[0.1111111111111111,\"#46039f\"],[0.2222222222222222,\"#7201a8\"],[0.3333333333333333,\"#9c179e\"],[0.4444444444444444,\"#bd3786\"],[0.5555555555555556,\"#d8576b\"],[0.6666666666666666,\"#ed7953\"],[0.7777777777777778,\"#fb9f3a\"],[0.8888888888888888,\"#fdca26\"],[1.0,\"#f0f921\"]]}],\"contourcarpet\":[{\"type\":\"contourcarpet\",\"colorbar\":{\"outlinewidth\":0,\"ticks\":\"\"}}],\"contour\":[{\"type\":\"contour\",\"colorbar\":{\"outlinewidth\":0,\"ticks\":\"\"},\"colorscale\":[[0.0,\"#0d0887\"],[0.1111111111111111,\"#46039f\"],[0.2222222222222222,\"#7201a8\"],[0.3333333333333333,\"#9c179e\"],[0.4444444444444444,\"#bd3786\"],[0.5555555555555556,\"#d8576b\"],[0.6666666666666666,\"#ed7953\"],[0.7777777777777778,\"#fb9f3a\"],[0.8888888888888888,\"#fdca26\"],[1.0,\"#f0f921\"]]}],\"surface\":[{\"type\":\"surface\",\"colorbar\":{\"outlinewidth\":0,\"ticks\":\"\"},\"colorscale\":[[0.0,\"#0d0887\"],[0.1111111111111111,\"#46039f\"],[0.2222222222222222,\"#7201a8\"],[0.3333333333333333,\"#9c179e\"],[0.4444444444444444,\"#bd3786\"],[0.5555555555555556,\"#d8576b\"],[0.6666666666666666,\"#ed7953\"],[0.7777777777777778,\"#fb9f3a\"],[0.8888888888888888,\"#fdca26\"],[1.0,\"#f0f921\"]]}],\"mesh3d\":[{\"type\":\"mesh3d\",\"colorbar\":{\"outlinewidth\":0,\"ticks\":\"\"}}],\"scatter\":[{\"fillpattern\":{\"fillmode\":\"overlay\",\"size\":10,\"solidity\":0.2},\"type\":\"scatter\"}],\"parcoords\":[{\"type\":\"parcoords\",\"line\":{\"colorbar\":{\"outlinewidth\":0,\"ticks\":\"\"}}}],\"scatterpolargl\":[{\"type\":\"scatterpolargl\",\"marker\":{\"colorbar\":{\"outlinewidth\":0,\"ticks\":\"\"}}}],\"bar\":[{\"error_x\":{\"color\":\"#2a3f5f\"},\"error_y\":{\"color\":\"#2a3f5f\"},\"marker\":{\"line\":{\"color\":\"#E5ECF6\",\"width\":0.5},\"pattern\":{\"fillmode\":\"overlay\",\"size\":10,\"solidity\":0.2}},\"type\":\"bar\"}],\"scattergeo\":[{\"type\":\"scattergeo\",\"marker\":{\"colorbar\":{\"outlinewidth\":0,\"ticks\":\"\"}}}],\"scatterpolar\":[{\"type\":\"scatterpolar\",\"marker\":{\"colorbar\":{\"outlinewidth\":0,\"ticks\":\"\"}}}],\"histogram\":[{\"marker\":{\"pattern\":{\"fillmode\":\"overlay\",\"size\":10,\"solidity\":0.2}},\"type\":\"histogram\"}],\"scattergl\":[{\"type\":\"scattergl\",\"marker\":{\"colorbar\":{\"outlinewidth\":0,\"ticks\":\"\"}}}],\"scatter3d\":[{\"type\":\"scatter3d\",\"line\":{\"colorbar\":{\"outlinewidth\":0,\"ticks\":\"\"}},\"marker\":{\"colorbar\":{\"outlinewidth\":0,\"ticks\":\"\"}}}],\"scattermapbox\":[{\"type\":\"scattermapbox\",\"marker\":{\"colorbar\":{\"outlinewidth\":0,\"ticks\":\"\"}}}],\"scatterternary\":[{\"type\":\"scatterternary\",\"marker\":{\"colorbar\":{\"outlinewidth\":0,\"ticks\":\"\"}}}],\"scattercarpet\":[{\"type\":\"scattercarpet\",\"marker\":{\"colorbar\":{\"outlinewidth\":0,\"ticks\":\"\"}}}],\"carpet\":[{\"aaxis\":{\"endlinecolor\":\"#2a3f5f\",\"gridcolor\":\"white\",\"linecolor\":\"white\",\"minorgridcolor\":\"white\",\"startlinecolor\":\"#2a3f5f\"},\"baxis\":{\"endlinecolor\":\"#2a3f5f\",\"gridcolor\":\"white\",\"linecolor\":\"white\",\"minorgridcolor\":\"white\",\"startlinecolor\":\"#2a3f5f\"},\"type\":\"carpet\"}],\"table\":[{\"cells\":{\"fill\":{\"color\":\"#EBF0F8\"},\"line\":{\"color\":\"white\"}},\"header\":{\"fill\":{\"color\":\"#C8D4E3\"},\"line\":{\"color\":\"white\"}},\"type\":\"table\"}],\"barpolar\":[{\"marker\":{\"line\":{\"color\":\"#E5ECF6\",\"width\":0.5},\"pattern\":{\"fillmode\":\"overlay\",\"size\":10,\"solidity\":0.2}},\"type\":\"barpolar\"}],\"pie\":[{\"automargin\":true,\"type\":\"pie\"}]},\"layout\":{\"autotypenumbers\":\"strict\",\"colorway\":[\"#636efa\",\"#EF553B\",\"#00cc96\",\"#ab63fa\",\"#FFA15A\",\"#19d3f3\",\"#FF6692\",\"#B6E880\",\"#FF97FF\",\"#FECB52\"],\"font\":{\"color\":\"#2a3f5f\"},\"hovermode\":\"closest\",\"hoverlabel\":{\"align\":\"left\"},\"paper_bgcolor\":\"white\",\"plot_bgcolor\":\"#E5ECF6\",\"polar\":{\"bgcolor\":\"#E5ECF6\",\"angularaxis\":{\"gridcolor\":\"white\",\"linecolor\":\"white\",\"ticks\":\"\"},\"radialaxis\":{\"gridcolor\":\"white\",\"linecolor\":\"white\",\"ticks\":\"\"}},\"ternary\":{\"bgcolor\":\"#E5ECF6\",\"aaxis\":{\"gridcolor\":\"white\",\"linecolor\":\"white\",\"ticks\":\"\"},\"baxis\":{\"gridcolor\":\"white\",\"linecolor\":\"white\",\"ticks\":\"\"},\"caxis\":{\"gridcolor\":\"white\",\"linecolor\":\"white\",\"ticks\":\"\"}},\"coloraxis\":{\"colorbar\":{\"outlinewidth\":0,\"ticks\":\"\"}},\"colorscale\":{\"sequential\":[[0.0,\"#0d0887\"],[0.1111111111111111,\"#46039f\"],[0.2222222222222222,\"#7201a8\"],[0.3333333333333333,\"#9c179e\"],[0.4444444444444444,\"#bd3786\"],[0.5555555555555556,\"#d8576b\"],[0.6666666666666666,\"#ed7953\"],[0.7777777777777778,\"#fb9f3a\"],[0.8888888888888888,\"#fdca26\"],[1.0,\"#f0f921\"]],\"sequentialminus\":[[0.0,\"#0d0887\"],[0.1111111111111111,\"#46039f\"],[0.2222222222222222,\"#7201a8\"],[0.3333333333333333,\"#9c179e\"],[0.4444444444444444,\"#bd3786\"],[0.5555555555555556,\"#d8576b\"],[0.6666666666666666,\"#ed7953\"],[0.7777777777777778,\"#fb9f3a\"],[0.8888888888888888,\"#fdca26\"],[1.0,\"#f0f921\"]],\"diverging\":[[0,\"#8e0152\"],[0.1,\"#c51b7d\"],[0.2,\"#de77ae\"],[0.3,\"#f1b6da\"],[0.4,\"#fde0ef\"],[0.5,\"#f7f7f7\"],[0.6,\"#e6f5d0\"],[0.7,\"#b8e186\"],[0.8,\"#7fbc41\"],[0.9,\"#4d9221\"],[1,\"#276419\"]]},\"xaxis\":{\"gridcolor\":\"white\",\"linecolor\":\"white\",\"ticks\":\"\",\"title\":{\"standoff\":15},\"zerolinecolor\":\"white\",\"automargin\":true,\"zerolinewidth\":2},\"yaxis\":{\"gridcolor\":\"white\",\"linecolor\":\"white\",\"ticks\":\"\",\"title\":{\"standoff\":15},\"zerolinecolor\":\"white\",\"automargin\":true,\"zerolinewidth\":2},\"scene\":{\"xaxis\":{\"backgroundcolor\":\"#E5ECF6\",\"gridcolor\":\"white\",\"linecolor\":\"white\",\"showbackground\":true,\"ticks\":\"\",\"zerolinecolor\":\"white\",\"gridwidth\":2},\"yaxis\":{\"backgroundcolor\":\"#E5ECF6\",\"gridcolor\":\"white\",\"linecolor\":\"white\",\"showbackground\":true,\"ticks\":\"\",\"zerolinecolor\":\"white\",\"gridwidth\":2},\"zaxis\":{\"backgroundcolor\":\"#E5ECF6\",\"gridcolor\":\"white\",\"linecolor\":\"white\",\"showbackground\":true,\"ticks\":\"\",\"zerolinecolor\":\"white\",\"gridwidth\":2}},\"shapedefaults\":{\"line\":{\"color\":\"#2a3f5f\"}},\"annotationdefaults\":{\"arrowcolor\":\"#2a3f5f\",\"arrowhead\":0,\"arrowwidth\":1},\"geo\":{\"bgcolor\":\"white\",\"landcolor\":\"#E5ECF6\",\"subunitcolor\":\"white\",\"showland\":true,\"showlakes\":true,\"lakecolor\":\"white\"},\"title\":{\"x\":0.05},\"mapbox\":{\"style\":\"light\"}}},\"geo\":{\"domain\":{\"x\":[0.0,1.0],\"y\":[0.0,1.0]},\"center\":{}},\"coloraxis\":{\"colorbar\":{\"title\":{\"text\":\"(%) Homeless per Population\"},\"thickness\":15,\"len\":0.6},\"colorscale\":[[0.0,\"rgb(253, 253, 204)\"],[0.09090909090909091,\"rgb(206, 236, 179)\"],[0.18181818181818182,\"rgb(156, 219, 165)\"],[0.2727272727272727,\"rgb(111, 201, 163)\"],[0.36363636363636365,\"rgb(86, 177, 163)\"],[0.45454545454545453,\"rgb(76, 153, 160)\"],[0.5454545454545454,\"rgb(68, 130, 155)\"],[0.6363636363636364,\"rgb(62, 108, 150)\"],[0.7272727272727273,\"rgb(62, 82, 143)\"],[0.8181818181818182,\"rgb(64, 60, 115)\"],[0.9090909090909091,\"rgb(54, 43, 77)\"],[1.0,\"rgb(39, 26, 44)\"]],\"cmin\":0,\"cmax\":0.4},\"legend\":{\"tracegroupgap\":0},\"title\":{\"text\":\"Global and U.S. Homelessness Data\",\"font\":{\"family\":\"Roboto\",\"size\":20,\"color\":\"black\"},\"x\":0.5,\"xanchor\":\"center\",\"yanchor\":\"bottom\"},\"width\":1000,\"height\":800},                        {\"responsive\": true}                    ).then(function(){\n",
       "                            \n",
       "var gd = document.getElementById('fec2d48b-560f-4098-9589-f636391feb28');\n",
       "var x = new MutationObserver(function (mutations, observer) {{\n",
       "        var display = window.getComputedStyle(gd).display;\n",
       "        if (!display || display === 'none') {{\n",
       "            console.log([gd, 'removed!']);\n",
       "            Plotly.purge(gd);\n",
       "            observer.disconnect();\n",
       "        }}\n",
       "}});\n",
       "\n",
       "// Listen for the removal of the full notebook cells\n",
       "var notebookContainer = gd.closest('#notebook-container');\n",
       "if (notebookContainer) {{\n",
       "    x.observe(notebookContainer, {childList: true});\n",
       "}}\n",
       "\n",
       "// Listen for the clearing of the current output cell\n",
       "var outputEl = gd.closest('.output');\n",
       "if (outputEl) {{\n",
       "    x.observe(outputEl, {childList: true});\n",
       "}}\n",
       "\n",
       "                        })                };                });            </script>        </div>"
      ]
     },
     "metadata": {},
     "output_type": "display_data"
    }
   ],
   "source": [
    "# Convert percentage values to numeric\n",
    "global_state['Percentage'] = global_state['Percentage'].str.rstrip('%').astype(float)\n",
    "\n",
    "# Separate global (country) data and U.S. state data\n",
    "global_data = global_state[global_state['Type'] == 'Country']\n",
    "us_data = global_state[global_state['Type'] == 'State']\n",
    "\n",
    "# Create the global choropleth map\n",
    "fig = px.choropleth(\n",
    "    global_data,\n",
    "    locations='Location',\n",
    "    locationmode='country names', \n",
    "    color='Percentage',\n",
    "    color_continuous_scale='deep',\n",
    "    title=\"Global and U.S. Homelessness Data\",\n",
    "    labels={\"Percentage\": \"(%) Homeless per Population\"},\n",
    "    range_color=(0, .4)\n",
    ")\n",
    "\n",
    "# Add U.S. state-level data on top of the global map\n",
    "fig.add_choropleth(\n",
    "    locations=us_data['Location'],\n",
    "    locationmode='USA-states', \n",
    "    z=us_data['Percentage'],\n",
    "    coloraxis=\"coloraxis\", \n",
    ")\n",
    "\n",
    "# Set the hovertemplate to format percentage values properly\n",
    "fig.update_traces(\n",
    "    hovertemplate='%{location}: %{z:.2f}'  # Show as a percentage with 2 decimal places\n",
    ")\n",
    "\n",
    "fig.update_layout(\n",
    "    title={\n",
    "        'text': \"Global and U.S. Homelessness Data\",  \n",
    "        'x': 0.5, \n",
    "        'xanchor': 'center', \n",
    "        'yanchor': 'bottom'},\n",
    "    \n",
    "    title_font=dict(\n",
    "        family=\"Roboto\", \n",
    "        size=20, \n",
    "        color=\"black\"),\n",
    "    \n",
    "    coloraxis_colorbar=dict(\n",
    "        thickness=15,\n",
    "        len=0.6,),\n",
    "    \n",
    "    width=1000, \n",
    "    height=800,\n",
    ")\n",
    "\n",
    "fig.show()"
   ]
  },
  {
   "cell_type": "markdown",
   "id": "3645543d-90ab-411b-94c5-f04205f62dc9",
   "metadata": {},
   "source": [
    "Create bar graph with select OECD country data"
   ]
  },
  {
   "cell_type": "code",
   "execution_count": 214,
   "id": "5e369e2d-b652-4cf6-8ccf-04d776210135",
   "metadata": {},
   "outputs": [
    {
     "data": {
      "text/html": [
       "<div>\n",
       "<style scoped>\n",
       "    .dataframe tbody tr th:only-of-type {\n",
       "        vertical-align: middle;\n",
       "    }\n",
       "\n",
       "    .dataframe tbody tr th {\n",
       "        vertical-align: top;\n",
       "    }\n",
       "\n",
       "    .dataframe thead th {\n",
       "        text-align: right;\n",
       "    }\n",
       "</style>\n",
       "<table border=\"1\" class=\"dataframe\">\n",
       "  <thead>\n",
       "    <tr style=\"text-align: right;\">\n",
       "      <th></th>\n",
       "      <th>Location</th>\n",
       "      <th>Percentage</th>\n",
       "      <th>Type</th>\n",
       "    </tr>\n",
       "  </thead>\n",
       "  <tbody>\n",
       "    <tr>\n",
       "      <th>3</th>\n",
       "      <td>France</td>\n",
       "      <td>0.48</td>\n",
       "      <td>Country</td>\n",
       "    </tr>\n",
       "    <tr>\n",
       "      <th>4</th>\n",
       "      <td>Germany</td>\n",
       "      <td>0.31</td>\n",
       "      <td>Country</td>\n",
       "    </tr>\n",
       "    <tr>\n",
       "      <th>6</th>\n",
       "      <td>Ireland</td>\n",
       "      <td>0.25</td>\n",
       "      <td>Country</td>\n",
       "    </tr>\n",
       "    <tr>\n",
       "      <th>10</th>\n",
       "      <td>Spain</td>\n",
       "      <td>0.06</td>\n",
       "      <td>Country</td>\n",
       "    </tr>\n",
       "    <tr>\n",
       "      <th>11</th>\n",
       "      <td>Sweden</td>\n",
       "      <td>0.31</td>\n",
       "      <td>Country</td>\n",
       "    </tr>\n",
       "    <tr>\n",
       "      <th>4</th>\n",
       "      <td>CA</td>\n",
       "      <td>0.47</td>\n",
       "      <td>State</td>\n",
       "    </tr>\n",
       "    <tr>\n",
       "      <th>8</th>\n",
       "      <td>DC</td>\n",
       "      <td>0.72</td>\n",
       "      <td>State</td>\n",
       "    </tr>\n",
       "    <tr>\n",
       "      <th>32</th>\n",
       "      <td>NY</td>\n",
       "      <td>0.53</td>\n",
       "      <td>State</td>\n",
       "    </tr>\n",
       "    <tr>\n",
       "      <th>37</th>\n",
       "      <td>OR</td>\n",
       "      <td>0.48</td>\n",
       "      <td>State</td>\n",
       "    </tr>\n",
       "    <tr>\n",
       "      <th>45</th>\n",
       "      <td>VT</td>\n",
       "      <td>0.51</td>\n",
       "      <td>State</td>\n",
       "    </tr>\n",
       "  </tbody>\n",
       "</table>\n",
       "</div>"
      ],
      "text/plain": [
       "   Location  Percentage     Type\n",
       "3    France        0.48  Country\n",
       "4   Germany        0.31  Country\n",
       "6   Ireland        0.25  Country\n",
       "10    Spain        0.06  Country\n",
       "11   Sweden        0.31  Country\n",
       "4        CA        0.47    State\n",
       "8        DC        0.72    State\n",
       "32       NY        0.53    State\n",
       "37       OR        0.48    State\n",
       "45       VT        0.51    State"
      ]
     },
     "execution_count": 214,
     "metadata": {},
     "output_type": "execute_result"
    }
   ],
   "source": [
    "# List of states and countries to filter\n",
    "selected_locations = [\n",
    "    \"NY\", \"DC\", \"VT\", \"OR\", \"CA\",\n",
    "    \"France\", \"Germany\",\n",
    "    \"Ireland\", 'Spain', 'Sweden'\n",
    "]\n",
    "\n",
    "# Filter the global_state dataframe to include only the selected locations\n",
    "filtered_df = global_state[global_state[\"Location\"].isin(selected_locations)]\n",
    "\n",
    "# Display dataframe\n",
    "filtered_df"
   ]
  },
  {
   "cell_type": "code",
   "execution_count": 215,
   "id": "abaa263e-6aec-49b9-9f49-6b1731b208ca",
   "metadata": {},
   "outputs": [
    {
     "data": {
      "image/png": "[encoded data removed]",
      "text/plain": [
       "<Figure size 1000x600 with 1 Axes>"
      ]
     },
     "metadata": {},
     "output_type": "display_data"
    }
   ],
   "source": [
    "filtered_df['Percentage'] = filtered_df['Percentage'].replace('%', '', regex=True).astype(float)\n",
    "\n",
    "# Sort the dataframe by Percentage in descending order\n",
    "df_sorted = filtered_df.sort_values(by='Percentage', ascending=False)\n",
    "\n",
    "# Create plot\n",
    "plt.figure(figsize=(10, 6))\n",
    "ax = sns.barplot(x='Location', y='Percentage', data=df_sorted, palette='crest')\n",
    "\n",
    "# Set labels and title\n",
    "plt.ylabel('(%) per Population', fontsize=14, fontweight='bold')\n",
    "plt.xlabel('')\n",
    "plt.title('Comparison of Homelessness in U.S. States vs. EU Countries', fontsize=16, fontweight='bold')\n",
    "\n",
    "# Rotate x-axis labels\n",
    "plt.xticks(rotation=45, ha='right')\n",
    "\n",
    "# Remove the top and right spines\n",
    "sns.despine(top=True, right=True)\n",
    "\n",
    "# Add the percentage values above each bar\n",
    "for bar in ax.patches:\n",
    "    yval = bar.get_height()  \n",
    "    ax.text(\n",
    "        bar.get_x() + bar.get_width() / 2,  \n",
    "        yval + 0.01,\n",
    "        f'{yval:.2f}%', \n",
    "        ha='center',  \n",
    "        va='bottom', \n",
    "        fontsize=13,  \n",
    "        color='black')\n",
    "\n",
    "# Display the plot\n",
    "plt.show()"
   ]
  }
 ],
 "metadata": {
  "kernelspec": {
   "display_name": "Python 3 (ipykernel)",
   "language": "python",
   "name": "python3"
  },
  "language_info": {
   "codemirror_mode": {
    "name": "ipython",
    "version": 3
   },
   "file_extension": ".py",
   "mimetype": "text/x-python",
   "name": "python",
   "nbconvert_exporter": "python",
   "pygments_lexer": "ipython3",
   "version": "3.9.20"
  }
 },
 "nbformat": 4,
 "nbformat_minor": 5
}
